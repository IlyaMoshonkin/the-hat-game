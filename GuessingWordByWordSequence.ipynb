{
 "cells": [
  {
   "cell_type": "markdown",
   "metadata": {},
   "source": [
    "# proof of concept: шляпа\n",
    "Играем в шляпу (один загадывает, остальные отгадывают)\n",
    "\n",
    "Текущие особенности реализации:\n",
    "- проверена только работа fasttext и только с помощью одним подходом к подбору слов для загадывания и отгадывания\n",
    "- модели недотренированы\n",
    "- тексты \"грязные\"\n",
    "- слово \"угадано\", если загаданное слово составляет его часть (word in guess) -- переменная CRITERIA"
   ]
  },
  {
   "cell_type": "code",
   "execution_count": 1,
   "metadata": {},
   "outputs": [],
   "source": [
    "import re\n",
    "import requests\n",
    "import warnings\n",
    "from collections import namedtuple\n",
    "\n",
    "import numpy as np\n",
    "import pandas as pd\n",
    "import fasttext\n",
    "from sklearn.metrics.pairwise import cosine_similarity\n",
    "from IPython.display import display"
   ]
  },
  {
   "cell_type": "markdown",
   "metadata": {},
   "source": [
    "## Обучим несколько моделей "
   ]
  },
  {
   "cell_type": "code",
   "execution_count": 2,
   "metadata": {},
   "outputs": [
    {
     "name": "stdout",
     "output_type": "stream",
     "text": [
      "CPU times: user 15min 57s, sys: 7.74 s, total: 16min 5s\n",
      "Wall time: 1min 41s\n"
     ]
    }
   ],
   "source": [
    "%%time\n",
    "\n",
    "file_path = '20-newsgroups/all_texts.preprocessed.txt'\n",
    "\n",
    "model_skipgram = fasttext.train_unsupervised(file_path, model='skipgram', dim=5)\n",
    "model_cbow = fasttext.train_unsupervised(file_path, model='cbow', dim=16)\n",
    "model_skipgram2 = fasttext.train_unsupervised(file_path, model='skipgram', dim=10)"
   ]
  },
  {
   "cell_type": "code",
   "execution_count": 3,
   "metadata": {},
   "outputs": [
    {
     "name": "stdout",
     "output_type": "stream",
     "text": [
      " 1719263 20-newsgroups/all_texts.preprocessed.txt\r\n"
     ]
    }
   ],
   "source": [
    "!wc -l {file_path}"
   ]
  },
  {
   "cell_type": "code",
   "execution_count": 4,
   "metadata": {
    "scrolled": true
   },
   "outputs": [
    {
     "name": "stdout",
     "output_type": "stream",
     "text": [
      "\r\n",
      "newsgroup: sci . electronics\r\n",
      "document_id: 52434\r\n",
      "from: et@teal . csn . org  ( eric h .  taylor ) \r\n",
      "subject: re: help_with_tracking_device\r\n",
      "\r\n",
      "in article <00969fba . e640ff10@aesop . rutgers . edu> mcdonald@aesop . rutgers . edu writes:\r\n",
      ">[ .  .  . ]\r\n",
      ">there are a variety of water-proof housings i could use but the real meat\r\n",
      ">of the problem is the electronics .  .  . hence this posting .   what kind of\r\n"
     ]
    }
   ],
   "source": [
    "!head {file_path}"
   ]
  },
  {
   "cell_type": "code",
   "execution_count": 5,
   "metadata": {
    "scrolled": true
   },
   "outputs": [
    {
     "data": {
      "text/plain": [
       "76430"
      ]
     },
     "execution_count": 5,
     "metadata": {},
     "output_type": "execute_result"
    }
   ],
   "source": [
    "len(model_cbow.words)"
   ]
  },
  {
   "cell_type": "code",
   "execution_count": 6,
   "metadata": {},
   "outputs": [
    {
     "data": {
      "text/plain": [
       "array([-1.7037996 ,  2.4888937 ,  2.6892757 ,  1.0378067 , -1.2333224 ,\n",
       "        1.5700542 ,  1.1323178 , -3.8242252 , -2.200785  ,  1.6522602 ,\n",
       "        0.13677068, -0.07873544,  1.2488995 ,  1.4893962 , -0.8431773 ,\n",
       "       -0.41610107], dtype=float32)"
      ]
     },
     "execution_count": 6,
     "metadata": {},
     "output_type": "execute_result"
    }
   ],
   "source": [
    "model_cbow['song']"
   ]
  },
  {
   "cell_type": "code",
   "execution_count": 7,
   "metadata": {},
   "outputs": [
    {
     "name": "stdout",
     "output_type": "stream",
     "text": [
      "mkdir: models: File exists\r\n"
     ]
    }
   ],
   "source": [
    "!mkdir models\n",
    "model_skipgram.save_model('models/skipgram.model')\n",
    "model_skipgram2.save_model('models/skipgram2.model')\n",
    "model_cbow.save_model('models/cbow.model')"
   ]
  },
  {
   "cell_type": "code",
   "execution_count": 8,
   "metadata": {},
   "outputs": [
    {
     "name": "stdout",
     "output_type": "stream",
     "text": [
      "total 579968\r\n",
      "-rw-r--r--  1 aguschin  staff   133M Sep 11 15:51 cbow.model\r\n",
      "-rw-r--r--  1 aguschin  staff    42M Sep 11 15:51 skipgram.model\r\n",
      "-rw-r--r--  1 aguschin  staff    83M Sep 11 15:51 skipgram2.model\r\n"
     ]
    }
   ],
   "source": [
    "!ls -lh models"
   ]
  },
  {
   "cell_type": "markdown",
   "metadata": {},
   "source": [
    "## Реализации классов для игроков"
   ]
  },
  {
   "cell_type": "code",
   "execution_count": 9,
   "metadata": {},
   "outputs": [
    {
     "name": "stdout",
     "output_type": "stream",
     "text": [
      "using latest fasttext version\n"
     ]
    }
   ],
   "source": [
    "class AbstractPlayer:\n",
    "    def __init__(self):\n",
    "        raise NotImplementedError()\n",
    "\n",
    "    def explain(self, word, n_words):\n",
    "        raise NotImplementedError()\n",
    "        \n",
    "    def guess(self, words, n_words):\n",
    "        raise NotImplementedError()\n",
    "\n",
    "\n",
    "if hasattr(model_skipgram2, 'get_nearest_neighbors'):\n",
    "    print('using latest fasttext version')\n",
    "    \n",
    "    class LocalFasttextPlayer(AbstractPlayer):\n",
    "        def __init__(self, model):\n",
    "            self.model = model\n",
    "\n",
    "        def find_words_for_sentence(self, sentence, n_closest):\n",
    "            neighbours = self.model.get_nearest_neighbors(sentence)\n",
    "            words = [word for similariry, word in neighbours][:n_closest]\n",
    "            return words\n",
    "\n",
    "        def explain(self, word, n_words):\n",
    "            return self.find_words_for_sentence(word, n_words)\n",
    "\n",
    "        def guess(self, words, n_words):\n",
    "            return self.find_words_for_sentence(' '.join(words), n_words)\n",
    "else:\n",
    "    print('using older fasttext version')\n",
    "    class LocalFasttextPlayer(AbstractPlayer):\n",
    "        def __init__(self, model):\n",
    "            self.model = model\n",
    "            self.words = model.get_words()\n",
    "            self.matrix = np.concatenate([model[word].reshape(1, -1) for word in self.words], axis=0)\n",
    "\n",
    "        def find_words_for_vector(self, vector, n_closest):\n",
    "            sims = cosine_similarity(vector.reshape(1, -1), self.matrix).ravel()\n",
    "            word_sims = pd.Series(sims, index=self.model.get_words()).sort_values(ascending=False)\n",
    "            return list(word_sims.head(n_closest).index)\n",
    "\n",
    "        def find_words_for_sentence(self, sentence, n_closest):\n",
    "            vector = self.model.get_sentence_vector(sentence)\n",
    "            return self.find_words_for_vector(vector, n_closest)\n",
    "\n",
    "        def explain(self, word, n_words):\n",
    "            return self.find_words_for_sentence(word, n_words)\n",
    "\n",
    "        def guess(self, words, n_words):\n",
    "            return self.find_words_for_sentence(' '.join(words), n_words)\n",
    "\n",
    "\n",
    "class RemotePlayer(AbstractPlayer):\n",
    "    def __init__(self, url):\n",
    "        self.url = url\n",
    "        \n",
    "    def explain(self, word, n_words):\n",
    "        response = requests.get(self.url + '/explain', {'word': word, 'n_words': n_words})\n",
    "        if response.status_code == 200:\n",
    "            word_list = response.json()\n",
    "        else:\n",
    "            warnings.warn(f'request failed: {response.status_code}')\n",
    "            word_list = []\n",
    "        return word_list\n",
    "    \n",
    "    def guess(self, words, n_words):\n",
    "        response = requests.get(self.url + '/guess', {'words': words, 'n_words': n_words})\n",
    "        if response.status_code == 200:\n",
    "            word_list = response.json()\n",
    "        else:\n",
    "            warnings.warn(f'request failed: {response.status_code}')\n",
    "            word_list = []\n",
    "        return word_list"
   ]
  },
  {
   "cell_type": "code",
   "execution_count": 10,
   "metadata": {},
   "outputs": [
    {
     "name": "stdout",
     "output_type": "stream",
     "text": [
      "['zen', 'sin;', '>[i', 'lover', 'mad', 'rant', 'scorn', '>honestly', '*laugh*', 'forever']\n",
      "['have:', '\"boggs\"', '>[lotsa', 'qualifier', '[now']\n"
     ]
    }
   ],
   "source": [
    "remote_player = RemotePlayer('https://obscure-everglades-02893.herokuapp.com')\n",
    "# remote_player = RemotePlayer('http://127.0.0.1:5000')\n",
    "print(remote_player.explain('zen', 10))\n",
    "print(remote_player.guess(['zen', 'desk', 'word'], 5))"
   ]
  },
  {
   "cell_type": "code",
   "execution_count": 11,
   "metadata": {},
   "outputs": [
    {
     "name": "stdout",
     "output_type": "stream",
     "text": [
      "['forever', '\"dear', 'sin;', 'thine', '\"someone', 'bear-stearns', 'insane', '\"who', 'heartless', 'reminds']\n",
      "['imagine-32', 'xrastool', 'xptablechildposition', 'in:', 'spx']\n"
     ]
    }
   ],
   "source": [
    "local_player = LocalFasttextPlayer(model_skipgram)\n",
    "print(local_player.explain('zen', 10))\n",
    "print(local_player.guess(['zen', 'desk', 'word'], 5))"
   ]
  },
  {
   "cell_type": "markdown",
   "metadata": {},
   "source": [
    "## Игра"
   ]
  },
  {
   "cell_type": "code",
   "execution_count": 17,
   "metadata": {},
   "outputs": [
    {
     "data": {
      "text/html": [
       "<div>\n",
       "<style scoped>\n",
       "    .dataframe tbody tr th:only-of-type {\n",
       "        vertical-align: middle;\n",
       "    }\n",
       "\n",
       "    .dataframe tbody tr th {\n",
       "        vertical-align: top;\n",
       "    }\n",
       "\n",
       "    .dataframe thead th {\n",
       "        text-align: right;\n",
       "    }\n",
       "</style>\n",
       "<table border=\"1\" class=\"dataframe\">\n",
       "  <thead>\n",
       "    <tr style=\"text-align: right;\">\n",
       "      <th></th>\n",
       "      <th>Explanation for \"cat\" (skipgram team)</th>\n",
       "      <th>Guess (cbow team)</th>\n",
       "      <th>Guess (skipgram2 team)</th>\n",
       "    </tr>\n",
       "  </thead>\n",
       "  <tbody>\n",
       "    <tr>\n",
       "      <th>0</th>\n",
       "      <td>[surname]</td>\n",
       "      <td>[basename, &gt;name, stat, rename, checkpoint]</td>\n",
       "      <td>[yip, enter:, &gt;address, turn:, &lt;----excuse]</td>\n",
       "    </tr>\n",
       "    <tr>\n",
       "      <th>1</th>\n",
       "      <td>[surname, hit]</td>\n",
       "      <td>[surname, row, lumme, stat, snatch]</td>\n",
       "      <td>[28%, yip, ]i, surname, [-h|-]</td>\n",
       "    </tr>\n",
       "    <tr>\n",
       "      <th>2</th>\n",
       "      <td>[surname, hit, y]</td>\n",
       "      <td>[surname, stat, lumme, iue, redin]</td>\n",
       "      <td>[28%, @u, que:, syd, lgtgah]</td>\n",
       "    </tr>\n",
       "    <tr>\n",
       "      <th>3</th>\n",
       "      <td>[surname, hit, y, m]</td>\n",
       "      <td>[surname, stat, lumme, iue, redin]</td>\n",
       "      <td>[28%, que:, @u, syd, lgtgah]</td>\n",
       "    </tr>\n",
       "    <tr>\n",
       "      <th>4</th>\n",
       "      <td>[surname, hit, y, m, r]</td>\n",
       "      <td>[surname, stat, lumme, iue, putnam]</td>\n",
       "      <td>[syd, 28%, @u, [-h|-, que:]</td>\n",
       "    </tr>\n",
       "    <tr>\n",
       "      <th>5</th>\n",
       "      <td>[surname, hit, y, m, r, gi]</td>\n",
       "      <td>[surname, greenleaf, green$$, putnam, edirne]</td>\n",
       "      <td>[[-h|-, 28%, que:, syd, &lt;alt&gt;&lt;f1&gt;]</td>\n",
       "    </tr>\n",
       "    <tr>\n",
       "      <th>6</th>\n",
       "      <td>[surname, hit, y, m, r, gi, 9]</td>\n",
       "      <td>[surname, stat, iue, putnam, lumme]</td>\n",
       "      <td>[28%, que:, [-h|-, surname, @u]</td>\n",
       "    </tr>\n",
       "    <tr>\n",
       "      <th>7</th>\n",
       "      <td>[surname, hit, y, m, r, gi, 9, ]</td>\n",
       "      <td>[surname, stat, iue, lumme, putnam]</td>\n",
       "      <td>[@u, [-h|-, que:, 28%, surname]</td>\n",
       "    </tr>\n",
       "    <tr>\n",
       "      <th>8</th>\n",
       "      <td>[surname, hit, y, m, r, gi, 9, , 4]</td>\n",
       "      <td>[surname, stat, iue, lumme, putnam]</td>\n",
       "      <td>[@u, [-h|-, 28%, que:, surname]</td>\n",
       "    </tr>\n",
       "  </tbody>\n",
       "</table>\n",
       "</div>"
      ],
      "text/plain": [
       "  Explanation for \"cat\" (skipgram team)  \\\n",
       "0                             [surname]   \n",
       "1                        [surname, hit]   \n",
       "2                     [surname, hit, y]   \n",
       "3                  [surname, hit, y, m]   \n",
       "4               [surname, hit, y, m, r]   \n",
       "5           [surname, hit, y, m, r, gi]   \n",
       "6        [surname, hit, y, m, r, gi, 9]   \n",
       "7      [surname, hit, y, m, r, gi, 9, ]   \n",
       "8   [surname, hit, y, m, r, gi, 9, , 4]   \n",
       "\n",
       "                               Guess (cbow team)  \\\n",
       "0    [basename, >name, stat, rename, checkpoint]   \n",
       "1            [surname, row, lumme, stat, snatch]   \n",
       "2             [surname, stat, lumme, iue, redin]   \n",
       "3             [surname, stat, lumme, iue, redin]   \n",
       "4            [surname, stat, lumme, iue, putnam]   \n",
       "5  [surname, greenleaf, green$$, putnam, edirne]   \n",
       "6            [surname, stat, iue, putnam, lumme]   \n",
       "7            [surname, stat, iue, lumme, putnam]   \n",
       "8            [surname, stat, iue, lumme, putnam]   \n",
       "\n",
       "                        Guess (skipgram2 team)  \n",
       "0  [yip, enter:, >address, turn:, <----excuse]  \n",
       "1               [28%, yip, ]i, surname, [-h|-]  \n",
       "2                 [28%, @u, que:, syd, lgtgah]  \n",
       "3                 [28%, que:, @u, syd, lgtgah]  \n",
       "4                  [syd, 28%, @u, [-h|-, que:]  \n",
       "5           [[-h|-, 28%, que:, syd, <alt><f1>]  \n",
       "6              [28%, que:, [-h|-, surname, @u]  \n",
       "7              [@u, [-h|-, que:, 28%, surname]  \n",
       "8              [@u, [-h|-, 28%, que:, surname]  "
      ]
     },
     "metadata": {},
     "output_type": "display_data"
    },
    {
     "data": {
      "text/html": [
       "<div>\n",
       "<style scoped>\n",
       "    .dataframe tbody tr th:only-of-type {\n",
       "        vertical-align: middle;\n",
       "    }\n",
       "\n",
       "    .dataframe tbody tr th {\n",
       "        vertical-align: top;\n",
       "    }\n",
       "\n",
       "    .dataframe thead th {\n",
       "        text-align: right;\n",
       "    }\n",
       "</style>\n",
       "<table border=\"1\" class=\"dataframe\">\n",
       "  <thead>\n",
       "    <tr style=\"text-align: right;\">\n",
       "      <th></th>\n",
       "      <th>Explanation for \"word\" (skipgram2 team)</th>\n",
       "      <th>Guess (cbow team)</th>\n",
       "      <th>Guess (skipgram team)</th>\n",
       "    </tr>\n",
       "  </thead>\n",
       "  <tbody>\n",
       "    <tr>\n",
       "      <th>0</th>\n",
       "      <td>[incorrectly]</td>\n",
       "      <td>[correctly, explicitely, #however, explictly, ...</td>\n",
       "      <td>[incorrectly, know;, whenever, &gt;&gt;&gt;does, anyway-]</td>\n",
       "    </tr>\n",
       "    <tr>\n",
       "      <th>1</th>\n",
       "      <td>[incorrectly, incorrect]</td>\n",
       "      <td>[incorrect\", incorrect, incorrect;, correct, \"...</td>\n",
       "      <td>[have;, \"values\", #your, technically-hip, corr...</td>\n",
       "    </tr>\n",
       "    <tr>\n",
       "      <th>2</th>\n",
       "      <td>[incorrectly, incorrect, see]</td>\n",
       "      <td>[incorrect\", incorrect;, incorrect, correct;, ...</td>\n",
       "      <td>[yours, question:, \"cure\", \"m\", technically-hip]</td>\n",
       "    </tr>\n",
       "    <tr>\n",
       "      <th>3</th>\n",
       "      <td>[incorrectly, incorrect, see, bible]</td>\n",
       "      <td>[incorrect\", incorrect, incorrect;, incorrectl...</td>\n",
       "      <td>[sourse, question, word, what, too\"]</td>\n",
       "    </tr>\n",
       "    <tr>\n",
       "      <th>4</th>\n",
       "      <td>[incorrectly, incorrect, see, bible, problem]</td>\n",
       "      <td>[incorrect\", incorrect, incorrect;, mention;, ...</td>\n",
       "      <td>NaN</td>\n",
       "    </tr>\n",
       "    <tr>\n",
       "      <th>5</th>\n",
       "      <td>[incorrectly, incorrect, see, bible, problem, ...</td>\n",
       "      <td>[&gt;interpretation, \"original\", misinterpretatio...</td>\n",
       "      <td>NaN</td>\n",
       "    </tr>\n",
       "    <tr>\n",
       "      <th>6</th>\n",
       "      <td>[incorrectly, incorrect, see, bible, problem, ...</td>\n",
       "      <td>[&gt;interpretation, &gt;description, \"original\", mi...</td>\n",
       "      <td>NaN</td>\n",
       "    </tr>\n",
       "    <tr>\n",
       "      <th>7</th>\n",
       "      <td>[incorrectly, incorrect, see, bible, problem, ...</td>\n",
       "      <td>[&gt;interpretation, &gt;context, interpretation, bi...</td>\n",
       "      <td>NaN</td>\n",
       "    </tr>\n",
       "  </tbody>\n",
       "</table>\n",
       "</div>"
      ],
      "text/plain": [
       "             Explanation for \"word\" (skipgram2 team)  \\\n",
       "0                                      [incorrectly]   \n",
       "1                           [incorrectly, incorrect]   \n",
       "2                      [incorrectly, incorrect, see]   \n",
       "3               [incorrectly, incorrect, see, bible]   \n",
       "4      [incorrectly, incorrect, see, bible, problem]   \n",
       "5  [incorrectly, incorrect, see, bible, problem, ...   \n",
       "6  [incorrectly, incorrect, see, bible, problem, ...   \n",
       "7  [incorrectly, incorrect, see, bible, problem, ...   \n",
       "\n",
       "                                   Guess (cbow team)  \\\n",
       "0  [correctly, explicitely, #however, explictly, ...   \n",
       "1  [incorrect\", incorrect, incorrect;, correct, \"...   \n",
       "2  [incorrect\", incorrect;, incorrect, correct;, ...   \n",
       "3  [incorrect\", incorrect, incorrect;, incorrectl...   \n",
       "4  [incorrect\", incorrect, incorrect;, mention;, ...   \n",
       "5  [>interpretation, \"original\", misinterpretatio...   \n",
       "6  [>interpretation, >description, \"original\", mi...   \n",
       "7  [>interpretation, >context, interpretation, bi...   \n",
       "\n",
       "                               Guess (skipgram team)  \n",
       "0   [incorrectly, know;, whenever, >>>does, anyway-]  \n",
       "1  [have;, \"values\", #your, technically-hip, corr...  \n",
       "2   [yours, question:, \"cure\", \"m\", technically-hip]  \n",
       "3               [sourse, question, word, what, too\"]  \n",
       "4                                                NaN  \n",
       "5                                                NaN  \n",
       "6                                                NaN  \n",
       "7                                                NaN  "
      ]
     },
     "metadata": {},
     "output_type": "display_data"
    },
    {
     "data": {
      "text/html": [
       "<div>\n",
       "<style scoped>\n",
       "    .dataframe tbody tr th:only-of-type {\n",
       "        vertical-align: middle;\n",
       "    }\n",
       "\n",
       "    .dataframe tbody tr th {\n",
       "        vertical-align: top;\n",
       "    }\n",
       "\n",
       "    .dataframe thead th {\n",
       "        text-align: right;\n",
       "    }\n",
       "</style>\n",
       "<table border=\"1\" class=\"dataframe\">\n",
       "  <thead>\n",
       "    <tr style=\"text-align: right;\">\n",
       "      <th></th>\n",
       "      <th>Explanation for \"spell\" (cbow team)</th>\n",
       "      <th>Guess (skipgram team)</th>\n",
       "      <th>Guess (skipgram2 team)</th>\n",
       "    </tr>\n",
       "  </thead>\n",
       "  <tbody>\n",
       "    <tr>\n",
       "      <th>0</th>\n",
       "      <td>[guesser]</td>\n",
       "      <td>[guesser, gekko, ios, \"m, \"catch]</td>\n",
       "      <td>[ahold, s**t, wasnt, hopalonga, dice]</td>\n",
       "    </tr>\n",
       "    <tr>\n",
       "      <th>1</th>\n",
       "      <td>[guesser, looks]</td>\n",
       "      <td>[trivia:, &gt;btw&gt;&gt;, axer, &gt;mom, umbs]</td>\n",
       "      <td>[:no, labelled, job\", *by, [tt+=-_]]</td>\n",
       "    </tr>\n",
       "    <tr>\n",
       "      <th>2</th>\n",
       "      <td>[guesser, looks, gobbledygook]</td>\n",
       "      <td>[-when, *vomit*, &gt;rumor, _am_, &gt;btw&gt;&gt;]</td>\n",
       "      <td>[soem, #$^&amp;, gobbledygook, ayoob, wsidom]</td>\n",
       "    </tr>\n",
       "    <tr>\n",
       "      <th>3</th>\n",
       "      <td>[guesser, looks, gobbledygook, doncha]</td>\n",
       "      <td>[-when, &gt;rumor, *vomit*, &gt;&gt;]i, _am_]</td>\n",
       "      <td>[jurassic, wsidom, soem, gobbledygook, ayoob]</td>\n",
       "    </tr>\n",
       "    <tr>\n",
       "      <th>4</th>\n",
       "      <td>[guesser, looks, gobbledygook, doncha, reardon]</td>\n",
       "      <td>[misspelt, &gt;&gt;]i, ^~, dweeb, doncha]</td>\n",
       "      <td>[wsidom, gotti, -teddy, &gt;&gt;mark, \"close]</td>\n",
       "    </tr>\n",
       "    <tr>\n",
       "      <th>5</th>\n",
       "      <td>[guesser, looks, gobbledygook, doncha, reardon...</td>\n",
       "      <td>[-ed, soem, jurassic, ^~, b^]</td>\n",
       "      <td>[wsidom, gotti, &gt;&gt;mark, -teddy, donoghue]</td>\n",
       "    </tr>\n",
       "    <tr>\n",
       "      <th>6</th>\n",
       "      <td>[guesser, looks, gobbledygook, doncha, reardon...</td>\n",
       "      <td>[b^, fermented, jurassic, jokes:, dweeb]</td>\n",
       "      <td>[wsidom, gotti, -teddy, }&gt;}so, :-]]</td>\n",
       "    </tr>\n",
       "    <tr>\n",
       "      <th>7</th>\n",
       "      <td>[guesser, looks, gobbledygook, doncha, reardon...</td>\n",
       "      <td>[n&gt;crap, soem, -ed, cornflakes, wrung]</td>\n",
       "      <td>[wsidom, gotti, -teddy, donoghue, doolittle]</td>\n",
       "    </tr>\n",
       "    <tr>\n",
       "      <th>8</th>\n",
       "      <td>[guesser, looks, gobbledygook, doncha, reardon...</td>\n",
       "      <td>[soem, wrung, jurassic, delhi, -ed]</td>\n",
       "      <td>[wsidom, -teddy, gotti, donoghue, doolittle]</td>\n",
       "    </tr>\n",
       "  </tbody>\n",
       "</table>\n",
       "</div>"
      ],
      "text/plain": [
       "                 Explanation for \"spell\" (cbow team)  \\\n",
       "0                                          [guesser]   \n",
       "1                                   [guesser, looks]   \n",
       "2                     [guesser, looks, gobbledygook]   \n",
       "3             [guesser, looks, gobbledygook, doncha]   \n",
       "4    [guesser, looks, gobbledygook, doncha, reardon]   \n",
       "5  [guesser, looks, gobbledygook, doncha, reardon...   \n",
       "6  [guesser, looks, gobbledygook, doncha, reardon...   \n",
       "7  [guesser, looks, gobbledygook, doncha, reardon...   \n",
       "8  [guesser, looks, gobbledygook, doncha, reardon...   \n",
       "\n",
       "                      Guess (skipgram team)  \\\n",
       "0         [guesser, gekko, ios, \"m, \"catch]   \n",
       "1       [trivia:, >btw>>, axer, >mom, umbs]   \n",
       "2    [-when, *vomit*, >rumor, _am_, >btw>>]   \n",
       "3      [-when, >rumor, *vomit*, >>]i, _am_]   \n",
       "4       [misspelt, >>]i, ^~, dweeb, doncha]   \n",
       "5             [-ed, soem, jurassic, ^~, b^]   \n",
       "6  [b^, fermented, jurassic, jokes:, dweeb]   \n",
       "7    [n>crap, soem, -ed, cornflakes, wrung]   \n",
       "8       [soem, wrung, jurassic, delhi, -ed]   \n",
       "\n",
       "                          Guess (skipgram2 team)  \n",
       "0          [ahold, s**t, wasnt, hopalonga, dice]  \n",
       "1           [:no, labelled, job\", *by, [tt+=-_]]  \n",
       "2      [soem, #$^&, gobbledygook, ayoob, wsidom]  \n",
       "3  [jurassic, wsidom, soem, gobbledygook, ayoob]  \n",
       "4        [wsidom, gotti, -teddy, >>mark, \"close]  \n",
       "5      [wsidom, gotti, >>mark, -teddy, donoghue]  \n",
       "6            [wsidom, gotti, -teddy, }>}so, :-]]  \n",
       "7   [wsidom, gotti, -teddy, donoghue, doolittle]  \n",
       "8   [wsidom, -teddy, gotti, donoghue, doolittle]  "
      ]
     },
     "metadata": {},
     "output_type": "display_data"
    }
   ],
   "source": [
    "class Game:\n",
    "    def __init__(self, players, words, criteria, n_rounds, n_explain_words, n_guessing_words):\n",
    "        assert len(players) >= 2\n",
    "        assert criteria in ('hard', 'soft')\n",
    "        self.players = players\n",
    "        self.words = words\n",
    "        self.criteria = criteria\n",
    "        self.n_rounds = n_rounds\n",
    "        self.n_explain_words = n_explain_words\n",
    "        self.n_guessing_words = n_guessing_words\n",
    "        \n",
    "    def remove_repeated_words(self, words):\n",
    "        unique_words = []\n",
    "        for c in words:\n",
    "            if not c in unique_words:\n",
    "                unique_words.append(c)\n",
    "        return unique_words\n",
    "        \n",
    "    def create_word_list(self, player, word, n_words):\n",
    "        if self.criteria == 'hard':\n",
    "            explain_words = explain_words[:n_words]\n",
    "        explain_words = player.explain(word, n_words)\n",
    "        explain_words = [re.sub(r'[^\\w]', '', c) for c in explain_words]\n",
    "        explain_words = [c for c in explain_words if word not in c]\n",
    "        explain_words = self.remove_repeated_words(explain_words)\n",
    "        if self.criteria == 'soft':\n",
    "            explain_words = explain_words[:n_words]\n",
    "        return explain_words\n",
    "    \n",
    "    def check_criteria(self, word, guessed_words):\n",
    "        if self.criteria == 'soft':\n",
    "            guessed = any([word in c for c in guessed_words])\n",
    "        else:\n",
    "            guessed = word in guessed_words\n",
    "        return guessed\n",
    "    \n",
    "    def play_round(self, explaining_player, guessing_players, word, sentence, verbose=False):\n",
    "        game_round = {}\n",
    "        if verbose:\n",
    "            print(f\"HOST: {sentence}\")\n",
    "        game_round.update({f'Explanation for \"{word}\" ({explaining_player.name})': sentence})\n",
    "        for player in guessing_players:\n",
    "            guessed_words = player.api.guess(sentence, self.n_guessing_words)\n",
    "            guessed = self.check_criteria(word, guessed_words)\n",
    "            if guessed:\n",
    "                guessing_players = [p for p in guessing_players if p != player]\n",
    "            if verbose:\n",
    "                print(f'GUESSING PLAYER ({player.name}) to HOST: {guessed_words}')\n",
    "                print(f'HOST: {guessed}')\n",
    "            game_round.update({f'Guess ({player.name})': guessed_words})\n",
    "        return game_round, guessing_players\n",
    "\n",
    "    def play(self, explaining_player, guessing_players, word, criteria, verbose=False):\n",
    "\n",
    "        if verbose:\n",
    "            print(f'HOST to EXPLAINING PLAYER: the word is \"{word}\"')\n",
    "\n",
    "        guessing_by = self.create_word_list(explaining_player.api, word, self.n_explain_words)\n",
    "        if verbose:\n",
    "            print(f'PLAYER 1 to HOST: my wordlist is {guessing_by}')\n",
    "\n",
    "        df = []\n",
    "        for i in range(1, len(guessing_by) + 1):\n",
    "            if len(guessing_players) == 0:\n",
    "                break\n",
    "            if verbose:\n",
    "                print(f'\\n===ROUND {i}===\\n')\n",
    "            game_round, guessing_players = self.play_round(\n",
    "                explaining_player=explaining_player,\n",
    "                guessing_players=guessing_players,\n",
    "                word=word,\n",
    "                sentence=guessing_by[:i],\n",
    "                verbose=verbose\n",
    "            )\n",
    "            df.append(game_round)\n",
    "        return pd.DataFrame(df)\n",
    "\n",
    "    def run(self):\n",
    "        np.random.shuffle(self.words)\n",
    "        igame = 0\n",
    "        for r in range(self.n_rounds):\n",
    "            for explaining_player in self.players:\n",
    "                guessing_players = [p for p in self.players if p != explaining_player]\n",
    "                word = self.words[igame]\n",
    "                igame += 1\n",
    "                df = self.play(explaining_player, guessing_players, word, criteria=self.criteria, verbose=False)\n",
    "                display(df)\n",
    "            \n",
    "        \n",
    "player = namedtuple('Player', ['name', 'api'])\n",
    "\n",
    "N_EXPLAIN_WORDS = 10\n",
    "N_GUESSING_WORDS = 5\n",
    "N_ROUNDS = 1\n",
    "CRITERIA = 'soft'\n",
    "\n",
    "PLAYERS = [\n",
    "    player('skipgram team', RemotePlayer('https://obscure-everglades-02893.herokuapp.com')),\n",
    "    player('skipgram2 team', LocalFasttextPlayer(model_skipgram2)),\n",
    "    player('cbow team', LocalFasttextPlayer(model_cbow))\n",
    "]\n",
    "\n",
    "WORDS = [\n",
    "    'play', 'master', 'word', 'cocoa', 'coffee',\n",
    "    'september', 'jungle', 'spell', 'python',\n",
    "    'cat', 'joy', 'sadness', 'small', 'stick'\n",
    "]\n",
    "# WORDS = ['september'] * 10\n",
    "\n",
    "game = Game(PLAYERS, WORDS, CRITERIA, N_ROUNDS, N_EXPLAIN_WORDS, N_GUESSING_WORDS)\n",
    "game.run()"
   ]
  },
  {
   "cell_type": "code",
   "execution_count": null,
   "metadata": {},
   "outputs": [],
   "source": []
  },
  {
   "cell_type": "code",
   "execution_count": null,
   "metadata": {},
   "outputs": [],
   "source": []
  },
  {
   "cell_type": "code",
   "execution_count": null,
   "metadata": {},
   "outputs": [],
   "source": []
  },
  {
   "cell_type": "code",
   "execution_count": null,
   "metadata": {},
   "outputs": [],
   "source": []
  },
  {
   "cell_type": "code",
   "execution_count": null,
   "metadata": {},
   "outputs": [],
   "source": []
  }
 ],
 "metadata": {
  "kernelspec": {
   "display_name": "py36",
   "language": "python",
   "name": "py36"
  },
  "language_info": {
   "codemirror_mode": {
    "name": "ipython",
    "version": 3
   },
   "file_extension": ".py",
   "mimetype": "text/x-python",
   "name": "python",
   "nbconvert_exporter": "python",
   "pygments_lexer": "ipython3",
   "version": "3.6.0"
  },
  "toc": {
   "base_numbering": 1,
   "nav_menu": {},
   "number_sections": true,
   "sideBar": true,
   "skip_h1_title": false,
   "title_cell": "Table of Contents",
   "title_sidebar": "Contents",
   "toc_cell": false,
   "toc_position": {},
   "toc_section_display": true,
   "toc_window_display": false
  }
 },
 "nbformat": 4,
 "nbformat_minor": 2
}
