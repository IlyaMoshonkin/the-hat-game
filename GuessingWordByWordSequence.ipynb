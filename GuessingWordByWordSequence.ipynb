{
 "cells": [
  {
   "cell_type": "markdown",
   "metadata": {},
   "source": [
    "# proof of concept: шляпа\n",
    "Играем в шляпу (один загадывает, остальные отгадывают)\n",
    "\n",
    "Текущие особенности реализации:\n",
    "- проверена только работа fasttext и только с помощью одним подходом к подбору слов для загадывания и отгадывания\n",
    "- модели недотренированы\n",
    "- тексты \"грязные\"\n",
    "- слово \"угадано\", если загаданное слово составляет его часть (word in guess) -- переменная CRITERIA"
   ]
  },
  {
   "cell_type": "code",
   "execution_count": 58,
   "metadata": {},
   "outputs": [],
   "source": [
    "import re\n",
    "import requests\n",
    "import warnings\n",
    "from collections import namedtuple, defaultdict\n",
    "\n",
    "import numpy as np\n",
    "import pandas as pd\n",
    "import fasttext\n",
    "from sklearn.metrics.pairwise import cosine_similarity\n",
    "from IPython.display import display"
   ]
  },
  {
   "cell_type": "markdown",
   "metadata": {},
   "source": [
    "## Обучим несколько моделей "
   ]
  },
  {
   "cell_type": "code",
   "execution_count": 2,
   "metadata": {},
   "outputs": [
    {
     "name": "stdout",
     "output_type": "stream",
     "text": [
      "CPU times: user 13min 10s, sys: 5.01 s, total: 13min 15s\n",
      "Wall time: 1min 23s\n"
     ]
    }
   ],
   "source": [
    "%%time\n",
    "\n",
    "file_path = '20-newsgroups/all_texts.preprocessed.txt'\n",
    "\n",
    "model_skipgram = fasttext.train_unsupervised(file_path, model='skipgram', dim=5)\n",
    "model_cbow = fasttext.train_unsupervised(file_path, model='cbow', dim=16)\n",
    "model_skipgram2 = fasttext.train_unsupervised(file_path, model='skipgram', dim=10)"
   ]
  },
  {
   "cell_type": "code",
   "execution_count": 3,
   "metadata": {},
   "outputs": [
    {
     "name": "stdout",
     "output_type": "stream",
     "text": [
      " 1719263 20-newsgroups/all_texts.preprocessed.txt\r\n"
     ]
    }
   ],
   "source": [
    "!wc -l {file_path}"
   ]
  },
  {
   "cell_type": "code",
   "execution_count": 4,
   "metadata": {
    "scrolled": true
   },
   "outputs": [
    {
     "name": "stdout",
     "output_type": "stream",
     "text": [
      "\r\n",
      "newsgroup: sci . electronics\r\n",
      "document_id: 52434\r\n",
      "from: et@teal . csn . org  ( eric h .  taylor ) \r\n",
      "subject: re: help_with_tracking_device\r\n",
      "\r\n",
      "in article <00969fba . e640ff10@aesop . rutgers . edu> mcdonald@aesop . rutgers . edu writes:\r\n",
      ">[ .  .  . ]\r\n",
      ">there are a variety of water-proof housings i could use but the real meat\r\n",
      ">of the problem is the electronics .  .  . hence this posting .   what kind of\r\n"
     ]
    }
   ],
   "source": [
    "!head {file_path}"
   ]
  },
  {
   "cell_type": "code",
   "execution_count": 5,
   "metadata": {
    "scrolled": true
   },
   "outputs": [
    {
     "data": {
      "text/plain": [
       "76430"
      ]
     },
     "execution_count": 5,
     "metadata": {},
     "output_type": "execute_result"
    }
   ],
   "source": [
    "len(model_cbow.words)"
   ]
  },
  {
   "cell_type": "code",
   "execution_count": 6,
   "metadata": {},
   "outputs": [
    {
     "data": {
      "text/plain": [
       "array([-2.6425312 ,  2.040185  ,  2.256368  ,  1.049787  , -1.3677909 ,\n",
       "        1.1098181 ,  0.70528245, -3.084615  , -2.828286  ,  1.7842726 ,\n",
       "       -0.84591043,  0.5058342 ,  2.044178  ,  2.68207   ,  0.5996572 ,\n",
       "       -0.6811738 ], dtype=float32)"
      ]
     },
     "execution_count": 6,
     "metadata": {},
     "output_type": "execute_result"
    }
   ],
   "source": [
    "model_cbow['song']"
   ]
  },
  {
   "cell_type": "code",
   "execution_count": 7,
   "metadata": {},
   "outputs": [
    {
     "name": "stdout",
     "output_type": "stream",
     "text": [
      "mkdir: models: File exists\r\n"
     ]
    }
   ],
   "source": [
    "!mkdir models\n",
    "model_skipgram.save_model('models/skipgram.model')\n",
    "model_skipgram2.save_model('models/skipgram2.model')\n",
    "model_cbow.save_model('models/cbow.model')"
   ]
  },
  {
   "cell_type": "code",
   "execution_count": 8,
   "metadata": {},
   "outputs": [
    {
     "name": "stdout",
     "output_type": "stream",
     "text": [
      "total 579968\r\n",
      "-rw-r--r--  1 aguschin  staff   133M Sep 15 09:43 cbow.model\r\n",
      "-rw-r--r--  1 aguschin  staff    42M Sep 15 09:43 skipgram.model\r\n",
      "-rw-r--r--  1 aguschin  staff    83M Sep 15 09:43 skipgram2.model\r\n"
     ]
    }
   ],
   "source": [
    "!ls -lh models"
   ]
  },
  {
   "cell_type": "markdown",
   "metadata": {},
   "source": [
    "## Реализации классов для игроков"
   ]
  },
  {
   "cell_type": "code",
   "execution_count": 9,
   "metadata": {},
   "outputs": [
    {
     "name": "stdout",
     "output_type": "stream",
     "text": [
      "using latest fasttext version\n"
     ]
    }
   ],
   "source": [
    "class AbstractPlayer:\n",
    "    def __init__(self):\n",
    "        raise NotImplementedError()\n",
    "\n",
    "    def explain(self, word, n_words):\n",
    "        raise NotImplementedError()\n",
    "        \n",
    "    def guess(self, words, n_words):\n",
    "        raise NotImplementedError()\n",
    "\n",
    "\n",
    "if hasattr(model_skipgram2, 'get_nearest_neighbors'):\n",
    "    print('using latest fasttext version')\n",
    "    \n",
    "    class LocalFasttextPlayer(AbstractPlayer):\n",
    "        def __init__(self, model):\n",
    "            self.model = model\n",
    "\n",
    "        def find_words_for_sentence(self, sentence, n_closest):\n",
    "            neighbours = self.model.get_nearest_neighbors(sentence)\n",
    "            words = [word for similariry, word in neighbours][:n_closest]\n",
    "            return words\n",
    "\n",
    "        def explain(self, word, n_words):\n",
    "            return self.find_words_for_sentence(word, n_words)\n",
    "\n",
    "        def guess(self, words, n_words):\n",
    "            return self.find_words_for_sentence(' '.join(words), n_words)\n",
    "else:\n",
    "    print('using older fasttext version')\n",
    "    class LocalFasttextPlayer(AbstractPlayer):\n",
    "        def __init__(self, model):\n",
    "            self.model = model\n",
    "            self.words = model.get_words()\n",
    "            self.matrix = np.concatenate([model[word].reshape(1, -1) for word in self.words], axis=0)\n",
    "\n",
    "        def find_words_for_vector(self, vector, n_closest):\n",
    "            sims = cosine_similarity(vector.reshape(1, -1), self.matrix).ravel()\n",
    "            word_sims = pd.Series(sims, index=self.model.get_words()).sort_values(ascending=False)\n",
    "            return list(word_sims.head(n_closest).index)\n",
    "\n",
    "        def find_words_for_sentence(self, sentence, n_closest):\n",
    "            vector = self.model.get_sentence_vector(sentence)\n",
    "            return self.find_words_for_vector(vector, n_closest)\n",
    "\n",
    "        def explain(self, word, n_words):\n",
    "            return self.find_words_for_sentence(word, n_words)\n",
    "\n",
    "        def guess(self, words, n_words):\n",
    "            return self.find_words_for_sentence(' '.join(words), n_words)\n",
    "\n",
    "\n",
    "class RemotePlayer(AbstractPlayer):\n",
    "    def __init__(self, url):\n",
    "        self.url = url\n",
    "        \n",
    "    def explain(self, word, n_words):\n",
    "        response = requests.get(self.url + '/explain', {'word': word, 'n_words': n_words})\n",
    "        if response.status_code == 200:\n",
    "            word_list = response.json()\n",
    "        else:\n",
    "            warnings.warn(f'request failed: {response.status_code}')\n",
    "            word_list = []\n",
    "        return word_list\n",
    "    \n",
    "    def guess(self, words, n_words):\n",
    "        response = requests.get(self.url + '/guess', {'words': words, 'n_words': n_words})\n",
    "        if response.status_code == 200:\n",
    "            word_list = response.json()\n",
    "        else:\n",
    "            warnings.warn(f'request failed: {response.status_code}')\n",
    "            word_list = []\n",
    "        return word_list"
   ]
  },
  {
   "cell_type": "code",
   "execution_count": 10,
   "metadata": {},
   "outputs": [
    {
     "name": "stdout",
     "output_type": "stream",
     "text": [
      "['zen', 'sin;', '>[i', 'lover', 'mad', 'rant', 'scorn', '>honestly', '*laugh*', 'forever']\n",
      "['have:', '\"boggs\"', '>[lotsa', 'qualifier', '[now']\n"
     ]
    }
   ],
   "source": [
    "remote_player = RemotePlayer('https://obscure-everglades-02893.herokuapp.com')\n",
    "# remote_player = RemotePlayer('http://127.0.0.1:5000')\n",
    "print(remote_player.explain('zen', 10))\n",
    "print(remote_player.guess(['zen', 'desk', 'word'], 5))"
   ]
  },
  {
   "cell_type": "code",
   "execution_count": 11,
   "metadata": {},
   "outputs": [
    {
     "name": "stdout",
     "output_type": "stream",
     "text": [
      "['concoct', 'sin;', 'guy\"', 'thine', '\"de', '\"he', 'god:', 'him]', 'insane', '*laugh*']\n",
      "['talk-show', 'name&address', 'macpgp', 'cslipper', 'host']\n"
     ]
    }
   ],
   "source": [
    "local_player = LocalFasttextPlayer(model_skipgram)\n",
    "print(local_player.explain('zen', 10))\n",
    "print(local_player.guess(['zen', 'desk', 'word'], 5))"
   ]
  },
  {
   "cell_type": "markdown",
   "metadata": {},
   "source": [
    "## Игра"
   ]
  },
  {
   "cell_type": "code",
   "execution_count": 95,
   "metadata": {},
   "outputs": [
    {
     "name": "stdout",
     "output_type": "stream",
     "text": [
      "vocabulary/verbs_top_50.txt\n"
     ]
    },
    {
     "data": {
      "text/plain": [
       "cbow team         250.0\n",
       "skipgram team     169.0\n",
       "skipgram2 team    303.0\n",
       "dtype: float64"
      ]
     },
     "metadata": {},
     "output_type": "display_data"
    },
    {
     "data": {
      "text/html": [
       "<div>\n",
       "<style scoped>\n",
       "    .dataframe tbody tr th:only-of-type {\n",
       "        vertical-align: middle;\n",
       "    }\n",
       "\n",
       "    .dataframe tbody tr th {\n",
       "        vertical-align: top;\n",
       "    }\n",
       "\n",
       "    .dataframe thead th {\n",
       "        text-align: right;\n",
       "    }\n",
       "</style>\n",
       "<table border=\"1\" class=\"dataframe\">\n",
       "  <thead>\n",
       "    <tr style=\"text-align: right;\">\n",
       "      <th></th>\n",
       "      <th>explaining</th>\n",
       "      <th>guessing</th>\n",
       "    </tr>\n",
       "  </thead>\n",
       "  <tbody>\n",
       "    <tr>\n",
       "      <th>cbow team</th>\n",
       "      <td>98</td>\n",
       "      <td>152</td>\n",
       "    </tr>\n",
       "    <tr>\n",
       "      <th>skipgram team</th>\n",
       "      <td>102</td>\n",
       "      <td>67</td>\n",
       "    </tr>\n",
       "    <tr>\n",
       "      <th>skipgram2 team</th>\n",
       "      <td>161</td>\n",
       "      <td>142</td>\n",
       "    </tr>\n",
       "  </tbody>\n",
       "</table>\n",
       "</div>"
      ],
      "text/plain": [
       "                explaining  guessing\n",
       "cbow team               98       152\n",
       "skipgram team          102        67\n",
       "skipgram2 team         161       142"
      ]
     },
     "metadata": {},
     "output_type": "display_data"
    },
    {
     "name": "stdout",
     "output_type": "stream",
     "text": [
      "vocabulary/nouns_top_50.txt\n"
     ]
    },
    {
     "data": {
      "text/plain": [
       "cbow team         233.0\n",
       "skipgram team     132.0\n",
       "skipgram2 team    283.0\n",
       "dtype: float64"
      ]
     },
     "metadata": {},
     "output_type": "display_data"
    },
    {
     "data": {
      "text/html": [
       "<div>\n",
       "<style scoped>\n",
       "    .dataframe tbody tr th:only-of-type {\n",
       "        vertical-align: middle;\n",
       "    }\n",
       "\n",
       "    .dataframe tbody tr th {\n",
       "        vertical-align: top;\n",
       "    }\n",
       "\n",
       "    .dataframe thead th {\n",
       "        text-align: right;\n",
       "    }\n",
       "</style>\n",
       "<table border=\"1\" class=\"dataframe\">\n",
       "  <thead>\n",
       "    <tr style=\"text-align: right;\">\n",
       "      <th></th>\n",
       "      <th>explaining</th>\n",
       "      <th>guessing</th>\n",
       "    </tr>\n",
       "  </thead>\n",
       "  <tbody>\n",
       "    <tr>\n",
       "      <th>cbow team</th>\n",
       "      <td>77</td>\n",
       "      <td>156</td>\n",
       "    </tr>\n",
       "    <tr>\n",
       "      <th>skipgram team</th>\n",
       "      <td>89</td>\n",
       "      <td>43</td>\n",
       "    </tr>\n",
       "    <tr>\n",
       "      <th>skipgram2 team</th>\n",
       "      <td>158</td>\n",
       "      <td>125</td>\n",
       "    </tr>\n",
       "  </tbody>\n",
       "</table>\n",
       "</div>"
      ],
      "text/plain": [
       "                explaining  guessing\n",
       "cbow team               77       156\n",
       "skipgram team           89        43\n",
       "skipgram2 team         158       125"
      ]
     },
     "metadata": {},
     "output_type": "display_data"
    },
    {
     "name": "stdout",
     "output_type": "stream",
     "text": [
      "vocabulary/adjectives_top_50.txt\n"
     ]
    },
    {
     "data": {
      "text/plain": [
       "cbow team         217.0\n",
       "skipgram team     126.0\n",
       "skipgram2 team    193.0\n",
       "dtype: float64"
      ]
     },
     "metadata": {},
     "output_type": "display_data"
    },
    {
     "data": {
      "text/html": [
       "<div>\n",
       "<style scoped>\n",
       "    .dataframe tbody tr th:only-of-type {\n",
       "        vertical-align: middle;\n",
       "    }\n",
       "\n",
       "    .dataframe tbody tr th {\n",
       "        vertical-align: top;\n",
       "    }\n",
       "\n",
       "    .dataframe thead th {\n",
       "        text-align: right;\n",
       "    }\n",
       "</style>\n",
       "<table border=\"1\" class=\"dataframe\">\n",
       "  <thead>\n",
       "    <tr style=\"text-align: right;\">\n",
       "      <th></th>\n",
       "      <th>explaining</th>\n",
       "      <th>guessing</th>\n",
       "    </tr>\n",
       "  </thead>\n",
       "  <tbody>\n",
       "    <tr>\n",
       "      <th>cbow team</th>\n",
       "      <td>144</td>\n",
       "      <td>73</td>\n",
       "    </tr>\n",
       "    <tr>\n",
       "      <th>skipgram team</th>\n",
       "      <td>55</td>\n",
       "      <td>71</td>\n",
       "    </tr>\n",
       "    <tr>\n",
       "      <th>skipgram2 team</th>\n",
       "      <td>69</td>\n",
       "      <td>124</td>\n",
       "    </tr>\n",
       "  </tbody>\n",
       "</table>\n",
       "</div>"
      ],
      "text/plain": [
       "                explaining  guessing\n",
       "cbow team              144        73\n",
       "skipgram team           55        71\n",
       "skipgram2 team          69       124"
      ]
     },
     "metadata": {},
     "output_type": "display_data"
    }
   ],
   "source": [
    "class Game:\n",
    "    def __init__(\n",
    "        self, players, words, criteria,\n",
    "        n_rounds, n_explain_words, n_guessing_words,\n",
    "        random_state=None\n",
    "    ):\n",
    "        assert len(players) >= 2\n",
    "        assert criteria in ('hard', 'soft')\n",
    "        self.players = players\n",
    "        self.words = words\n",
    "        self.criteria = criteria\n",
    "        self.n_rounds = n_rounds\n",
    "        self.n_explain_words = n_explain_words\n",
    "        self.n_guessing_words = n_guessing_words\n",
    "        \n",
    "    def remove_repeated_words(self, words):\n",
    "        unique_words = []\n",
    "        for c in words:\n",
    "            if not c in unique_words:\n",
    "                unique_words.append(c)\n",
    "        return unique_words\n",
    "        \n",
    "    def score_players(self, explainer_name, last_rounds):\n",
    "        rewards = {\n",
    "            player: self.n_explain_words + 1 - nround\n",
    "            for player, nround in last_rounds.items()\n",
    "        }\n",
    "        rewards[explainer_name] = sum(rewards.values())\n",
    "        return rewards\n",
    "\n",
    "    def create_word_list(self, player, word, n_words):\n",
    "        reported_words = player.explain(word, n_words)\n",
    "        explain_words = reported_words[:]\n",
    "        if self.criteria == 'hard':\n",
    "            explain_words = explain_words[:n_words]\n",
    "        explain_words = [re.sub(r'[^\\w]', '', c) for c in explain_words]\n",
    "        explain_words = [c for c in explain_words if word not in c]\n",
    "        explain_words = self.remove_repeated_words(explain_words)\n",
    "        if self.criteria == 'soft':\n",
    "            explain_words = explain_words[:n_words]\n",
    "        return reported_words, explain_words\n",
    "    \n",
    "    def check_criteria(self, word, guessed_words):\n",
    "        if self.criteria == 'soft':\n",
    "            guessed = any([word in c for c in guessed_words])\n",
    "        else:\n",
    "            guessed = word in guessed_words\n",
    "        return guessed\n",
    "    \n",
    "    def play_round(self, explaining_player, guessing_players, word, sentence, verbose=False):\n",
    "        game_round = {}\n",
    "        results = {}\n",
    "        if verbose:\n",
    "            print(f\"HOST: {sentence}\")\n",
    "        game_round.update({f'Explanation for \"{word}\" ({explaining_player.name})': sentence})\n",
    "#         game_round.update({explaining_player.name: sentence})\n",
    "        for player in guessing_players:\n",
    "            guessed_words = player.api.guess(sentence, self.n_guessing_words)\n",
    "            guessed = self.check_criteria(word, guessed_words)\n",
    "            results[player.name] = guessed\n",
    "            if verbose:\n",
    "                print(f'GUESSING PLAYER ({player.name}) to HOST: {guessed_words}')\n",
    "                print(f'HOST: {guessed}')\n",
    "            game_round.update({f'Guess ({player.name})': guessed_words})\n",
    "#             game_round.update({player.name: guessed_words})\n",
    "        return game_round, results\n",
    "\n",
    "    def play(self, explaining_player, guessing_players, word, criteria, verbose=False):\n",
    "\n",
    "        if verbose:\n",
    "            print(f'HOST to EXPLAINING PLAYER: the word is \"{word}\"')\n",
    "\n",
    "        reported_words, guessing_by = self.create_word_list(explaining_player.api, word, self.n_explain_words)\n",
    "        if verbose:\n",
    "            print(f'EXPLAINING PLAYER to HOST: my wordlist is {reported_words}')\n",
    "            print(f'HOST TO EXPLAINING PLAYER: cleaning your word list. Now the list is {guessing_by}')\n",
    "\n",
    "        df = []\n",
    "        success_rounds = {}\n",
    "        for iround in range(1, len(guessing_by) + 1):\n",
    "            if len(guessing_players) == 0:\n",
    "                break\n",
    "            if verbose:\n",
    "                print(f'\\n===ROUND {iround}===\\n')\n",
    "            game_round, results_round = self.play_round(\n",
    "                explaining_player=explaining_player,\n",
    "                guessing_players=guessing_players,\n",
    "                word=word,\n",
    "                sentence=guessing_by[:iround],\n",
    "                verbose=verbose\n",
    "            )\n",
    "            for player in guessing_players[:]:\n",
    "                if (player.name not in success_rounds) and results_round.get(player.name, False):\n",
    "                    success_rounds[player.name] = iround\n",
    "                    guessing_players = [p for p in guessing_players if p != player]\n",
    "            df.append(game_round)\n",
    "        \n",
    "        df = pd.DataFrame(df)\n",
    "        scores = self.score_players(explaining_player.name, success_rounds)\n",
    "        \n",
    "        return df, scores\n",
    "    \n",
    "    def get_words(self, complete):\n",
    "        if not complete:\n",
    "            words = self.words[:]\n",
    "            np.random.seed(self.random_state)\n",
    "            np.random.shuffle(words)\n",
    "        else:\n",
    "            words = []\n",
    "            for word in self.words:\n",
    "                words.extend([word] * len(self.players))\n",
    "        return words\n",
    "    \n",
    "    def get_n_rounds(self, complete):\n",
    "        if complete:\n",
    "            return len(self.words)\n",
    "        else:\n",
    "            return self.n_rounds\n",
    "\n",
    "    def run(self, verbose=0, complete=False):\n",
    "        \n",
    "        self.run_words = self.get_words(complete=complete)\n",
    "        self.run_rounds = self.get_n_rounds(complete=complete)\n",
    "            \n",
    "        igame = 0\n",
    "        scores = []\n",
    "        scores_status = defaultdict(int)\n",
    "        for r in range(self.run_rounds):\n",
    "            for explaining_player in self.players:\n",
    "                guessing_players = [p for p in self.players if p != explaining_player]\n",
    "                word = self.run_words[igame]\n",
    "                df, score = self.play(\n",
    "                    explaining_player, guessing_players, word,\n",
    "                    criteria=self.criteria, verbose=verbose > 1\n",
    "                )\n",
    "                scores.append(score)\n",
    "                scores_status[(explaining_player.name, 'explaining')] += score.get(explaining_player.name, 0)\n",
    "                for player in guessing_players:\n",
    "                    scores_status[(player.name, 'guessing')] += score.get(player.name, 0)\n",
    "                igame += 1\n",
    "                if verbose > 0:\n",
    "                    display(df)\n",
    "                    display(score)\n",
    "\n",
    "        self.scores = pd.DataFrame(scores).fillna(0)\n",
    "        self.scores_status = pd.Series(scores_status).unstack()\n",
    "        \n",
    "        if verbose > 0:\n",
    "            display(self.scores)\n",
    "        display(self.scores.sum(axis=0))\n",
    "        display(self.scores_status)\n",
    "\n",
    "        \n",
    "player = namedtuple('Player', ['name', 'api'])\n",
    "\n",
    "N_EXPLAIN_WORDS = 10\n",
    "N_GUESSING_WORDS = 5\n",
    "N_ROUNDS = 1\n",
    "CRITERIA = 'soft'\n",
    "\n",
    "PLAYERS = [\n",
    "    # player('skipgram team', RemotePlayer('https://obscure-everglades-02893.herokuapp.com')),\n",
    "    player('skipgram team', LocalFasttextPlayer(model_skipgram)),\n",
    "    player('skipgram2 team', LocalFasttextPlayer(model_skipgram2)),\n",
    "    player('cbow team', LocalFasttextPlayer(model_cbow))\n",
    "]\n",
    "\n",
    "WORDS = [\n",
    "    'play', 'master', 'word', 'cocoa', 'coffee',\n",
    "    'september', 'jungle', 'spell', 'python', 'world',\n",
    "    'cat', 'joy', 'sadness', 'small', 'stick',\n",
    "]\n",
    "# WORDS = ['bible']\n",
    "\n",
    "# for vocabulary_path in [\n",
    "#     'vocabulary/verbs_top_50.txt',\n",
    "#     'vocabulary/nouns_top_50.txt',\n",
    "#     'vocabulary/adjectives_top_50.txt'\n",
    "# ]:\n",
    "#     print(vocabulary_path)\n",
    "#     with open(vocabulary_path) as f:\n",
    "#         WORDS = f.readlines()\n",
    "#         WORDS = [word.strip() for word in WORDS]\n",
    "\n",
    "game = Game(PLAYERS, WORDS, CRITERIA, N_ROUNDS, N_EXPLAIN_WORDS, N_GUESSING_WORDS)\n",
    "game.run(verbose=0, complete=True)"
   ]
  },
  {
   "cell_type": "code",
   "execution_count": null,
   "metadata": {},
   "outputs": [],
   "source": []
  },
  {
   "cell_type": "code",
   "execution_count": null,
   "metadata": {},
   "outputs": [],
   "source": []
  },
  {
   "cell_type": "code",
   "execution_count": null,
   "metadata": {},
   "outputs": [],
   "source": []
  },
  {
   "cell_type": "code",
   "execution_count": null,
   "metadata": {},
   "outputs": [],
   "source": []
  },
  {
   "cell_type": "code",
   "execution_count": null,
   "metadata": {},
   "outputs": [],
   "source": []
  },
  {
   "cell_type": "code",
   "execution_count": null,
   "metadata": {},
   "outputs": [],
   "source": []
  },
  {
   "cell_type": "code",
   "execution_count": null,
   "metadata": {},
   "outputs": [],
   "source": []
  }
 ],
 "metadata": {
  "kernelspec": {
   "display_name": "py36",
   "language": "python",
   "name": "py36"
  },
  "language_info": {
   "codemirror_mode": {
    "name": "ipython",
    "version": 3
   },
   "file_extension": ".py",
   "mimetype": "text/x-python",
   "name": "python",
   "nbconvert_exporter": "python",
   "pygments_lexer": "ipython3",
   "version": "3.6.0"
  },
  "toc": {
   "base_numbering": 1,
   "nav_menu": {},
   "number_sections": true,
   "sideBar": true,
   "skip_h1_title": false,
   "title_cell": "Table of Contents",
   "title_sidebar": "Contents",
   "toc_cell": false,
   "toc_position": {},
   "toc_section_display": true,
   "toc_window_display": false
  }
 },
 "nbformat": 4,
 "nbformat_minor": 2
}
