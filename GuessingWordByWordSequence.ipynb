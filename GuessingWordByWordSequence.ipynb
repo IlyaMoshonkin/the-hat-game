{
 "cells": [
  {
   "cell_type": "markdown",
   "metadata": {},
   "source": [
    "# proof of concept: шляпа\n",
    "Играем в шляпу (один загадывает, остальные отгадывают)\n",
    "\n",
    "Текущие особенности реализации:\n",
    "- проверена только работа fasttext и только с помощью одним подходом к подбору слов для загадывания и отгадывания\n",
    "- модели недотренированы\n",
    "- тексты \"грязные\"\n",
    "- слово \"угадано\", если загаданное слово составляет его часть (word in guess) -- переменная CRITERIA"
   ]
  },
  {
   "cell_type": "code",
   "execution_count": 1,
   "metadata": {},
   "outputs": [],
   "source": [
    "import re\n",
    "import requests\n",
    "import warnings\n",
    "from collections import namedtuple\n",
    "\n",
    "import numpy as np\n",
    "import pandas as pd\n",
    "import fasttext\n",
    "from sklearn.metrics.pairwise import cosine_similarity\n",
    "from IPython.display import display"
   ]
  },
  {
   "cell_type": "markdown",
   "metadata": {},
   "source": [
    "## Обучим несколько моделей "
   ]
  },
  {
   "cell_type": "code",
   "execution_count": 2,
   "metadata": {},
   "outputs": [
    {
     "name": "stdout",
     "output_type": "stream",
     "text": [
      "CPU times: user 12min 32s, sys: 4.11 s, total: 12min 36s\n",
      "Wall time: 1min 16s\n"
     ]
    }
   ],
   "source": [
    "%%time\n",
    "\n",
    "file_path = '20-newsgroups/all_texts.preprocessed.txt'\n",
    "\n",
    "model_skipgram = fasttext.train_unsupervised(file_path, model='skipgram', dim=5)\n",
    "model_cbow = fasttext.train_unsupervised(file_path, model='cbow', dim=16)\n",
    "model_skipgram2 = fasttext.train_unsupervised(file_path, model='skipgram', dim=10)"
   ]
  },
  {
   "cell_type": "code",
   "execution_count": 3,
   "metadata": {},
   "outputs": [
    {
     "name": "stdout",
     "output_type": "stream",
     "text": [
      " 1719263 20-newsgroups/all_texts.preprocessed.txt\n"
     ]
    }
   ],
   "source": [
    "!wc -l {file_path}"
   ]
  },
  {
   "cell_type": "code",
   "execution_count": 4,
   "metadata": {
    "scrolled": true
   },
   "outputs": [
    {
     "name": "stdout",
     "output_type": "stream",
     "text": [
      "\n",
      "newsgroup: sci . electronics\n",
      "document_id: 52434\n",
      "from: et@teal . csn . org  ( eric h .  taylor ) \n",
      "subject: re: help_with_tracking_device\n",
      "\n",
      "in article <00969fba . e640ff10@aesop . rutgers . edu> mcdonald@aesop . rutgers . edu writes:\n",
      ">[ .  .  . ]\n",
      ">there are a variety of water-proof housings i could use but the real meat\n",
      ">of the problem is the electronics .  .  . hence this posting .   what kind of\n"
     ]
    }
   ],
   "source": [
    "!head {file_path}"
   ]
  },
  {
   "cell_type": "code",
   "execution_count": 5,
   "metadata": {
    "scrolled": true
   },
   "outputs": [
    {
     "data": {
      "text/plain": [
       "76430"
      ]
     },
     "execution_count": 5,
     "metadata": {},
     "output_type": "execute_result"
    }
   ],
   "source": [
    "len(model_cbow.words)"
   ]
  },
  {
   "cell_type": "code",
   "execution_count": 6,
   "metadata": {},
   "outputs": [
    {
     "data": {
      "text/plain": [
       "array([-2.1965523 ,  1.9783983 ,  2.7871406 ,  0.8564429 , -1.15721   ,\n",
       "        1.1739218 , -0.14424281, -3.0943472 , -2.3887136 ,  1.0926764 ,\n",
       "       -0.15824847,  0.1018669 ,  1.3388399 ,  1.9259685 , -1.4959589 ,\n",
       "        0.11113074], dtype=float32)"
      ]
     },
     "execution_count": 6,
     "metadata": {},
     "output_type": "execute_result"
    }
   ],
   "source": [
    "model_cbow['song']"
   ]
  },
  {
   "cell_type": "code",
   "execution_count": 7,
   "metadata": {},
   "outputs": [
    {
     "name": "stdout",
     "output_type": "stream",
     "text": [
      "mkdir: models: File exists\n"
     ]
    }
   ],
   "source": [
    "!mkdir models\n",
    "model_skipgram.save_model('models/skipgram.model')\n",
    "model_skipgram2.save_model('models/skipgram2.model')\n",
    "model_cbow.save_model('models/cbow.model')"
   ]
  },
  {
   "cell_type": "code",
   "execution_count": 8,
   "metadata": {},
   "outputs": [
    {
     "name": "stdout",
     "output_type": "stream",
     "text": [
      "total 579968\n",
      "-rw-r--r--  1 aguschin  staff   133M Sep  8 14:37 cbow.model\n",
      "-rw-r--r--  1 aguschin  staff    42M Sep  8 14:37 skipgram.model\n",
      "-rw-r--r--  1 aguschin  staff    83M Sep  8 14:37 skipgram2.model\n"
     ]
    }
   ],
   "source": [
    "!ls -lh models"
   ]
  },
  {
   "cell_type": "markdown",
   "metadata": {},
   "source": [
    "## Реализации классов для игроков"
   ]
  },
  {
   "cell_type": "code",
   "execution_count": 9,
   "metadata": {},
   "outputs": [
    {
     "name": "stdout",
     "output_type": "stream",
     "text": [
      "using latest fasttext version\n"
     ]
    }
   ],
   "source": [
    "class AbstractPlayer:\n",
    "    def __init__(self):\n",
    "        raise NotImplementedError()\n",
    "\n",
    "    def explain(self, word, n_words):\n",
    "        raise NotImplementedError()\n",
    "        \n",
    "    def guess(self, words, n_words):\n",
    "        raise NotImplementedError()\n",
    "\n",
    "\n",
    "if hasattr(model_skipgram2, 'get_nearest_neighbors'):\n",
    "    print('using latest fasttext version')\n",
    "    \n",
    "    class LocalFasttextPlayer(AbstractPlayer):\n",
    "        def __init__(self, model):\n",
    "            self.model = model\n",
    "\n",
    "        def find_words_for_sentence(self, sentence, n_closest):\n",
    "            neighbours = self.model.get_nearest_neighbors(sentence)\n",
    "            words = [word for similariry, word in neighbours][:n_closest]\n",
    "            return words\n",
    "\n",
    "        def explain(self, word, n_words):\n",
    "            return self.find_words_for_sentence(word, n_words)\n",
    "\n",
    "        def guess(self, words, n_words):\n",
    "            return self.find_words_for_sentence(' '.join(words), n_words)\n",
    "else:\n",
    "    print('using older fasttext version')\n",
    "    class LocalFasttextPlayer(AbstractPlayer):\n",
    "        def __init__(self, model):\n",
    "            self.model = model\n",
    "            self.words = model.get_words()\n",
    "            self.matrix = np.concatenate([model[word].reshape(1, -1) for word in self.words], axis=0)\n",
    "\n",
    "        def find_words_for_vector(self, vector, n_closest):\n",
    "            sims = cosine_similarity(vector.reshape(1, -1), self.matrix).ravel()\n",
    "            word_sims = pd.Series(sims, index=self.model.get_words()).sort_values(ascending=False)\n",
    "            return list(word_sims.head(n_closest).index)\n",
    "\n",
    "        def find_words_for_sentence(self, sentence, n_closest):\n",
    "            vector = self.model.get_sentence_vector(sentence)\n",
    "            return self.find_words_for_vector(vector, n_closest)\n",
    "\n",
    "        def explain(self, word, n_words):\n",
    "            return self.find_words_for_sentence(word, n_words)\n",
    "\n",
    "        def guess(self, words, n_words):\n",
    "            return self.find_words_for_sentence(' '.join(words), n_words)\n",
    "\n",
    "\n",
    "class RemotePlayer(AbstractPlayer):\n",
    "    def __init__(self, url):\n",
    "        self.url = url\n",
    "        \n",
    "    def explain(self, word, n_words):\n",
    "        response = requests.get(self.url + '/explain', {'word': word, 'n_words': n_words})\n",
    "        if response.status_code == 200:\n",
    "            word_list = response.json()\n",
    "        else:\n",
    "            warnings.warn(f'request failed: {response.status_code}')\n",
    "            word_list = []\n",
    "        return word_list\n",
    "    \n",
    "    def guess(self, words, n_words):\n",
    "        response = requests.get(self.url + '/guess', {'words': words, 'n_words': n_words})\n",
    "        if response.status_code == 200:\n",
    "            word_list = response.json()\n",
    "        else:\n",
    "            warnings.warn(f'request failed: {response.status_code}')\n",
    "            word_list = []\n",
    "        return word_list"
   ]
  },
  {
   "cell_type": "code",
   "execution_count": 10,
   "metadata": {},
   "outputs": [
    {
     "name": "stdout",
     "output_type": "stream",
     "text": [
      "['zen', 'sin;', '>[i', 'lover', 'mad', 'rant', 'scorn', '>honestly', '*laugh*', 'forever']\n",
      "['have:', '\"boggs\"', '>[lotsa', 'qualifier', '[now']\n"
     ]
    }
   ],
   "source": [
    "remote_player = RemotePlayer('https://obscure-everglades-02893.herokuapp.com')\n",
    "# remote_player = RemotePlayer('http://127.0.0.1:5000')\n",
    "print(remote_player.explain('zen', 10))\n",
    "print(remote_player.guess(['zen', 'desk', 'word'], 5))"
   ]
  },
  {
   "cell_type": "code",
   "execution_count": 11,
   "metadata": {},
   "outputs": [
    {
     "name": "stdout",
     "output_type": "stream",
     "text": [
      "['>[i', 'sin;', 'forever', '\"aunt', 'wiccan', 'rant', 'damns', 'insane', 'before:', 'thine']\n",
      "['spx', 'suggest:', 'sunlight', 'umbdr522', 'in:']\n"
     ]
    }
   ],
   "source": [
    "local_player = LocalFasttextPlayer(model_skipgram)\n",
    "print(local_player.explain('zen', 10))\n",
    "print(local_player.guess(['zen', 'desk', 'word'], 5))"
   ]
  },
  {
   "cell_type": "markdown",
   "metadata": {},
   "source": [
    "## Игра"
   ]
  },
  {
   "cell_type": "code",
   "execution_count": 13,
   "metadata": {},
   "outputs": [
    {
     "data": {
      "text/html": [
       "<div>\n",
       "<style scoped>\n",
       "    .dataframe tbody tr th:only-of-type {\n",
       "        vertical-align: middle;\n",
       "    }\n",
       "\n",
       "    .dataframe tbody tr th {\n",
       "        vertical-align: top;\n",
       "    }\n",
       "\n",
       "    .dataframe thead th {\n",
       "        text-align: right;\n",
       "    }\n",
       "</style>\n",
       "<table border=\"1\" class=\"dataframe\">\n",
       "  <thead>\n",
       "    <tr style=\"text-align: right;\">\n",
       "      <th></th>\n",
       "      <th>Explanation for \"play\" (skipgram team)</th>\n",
       "      <th>Guess (cbow team)</th>\n",
       "      <th>Guess (skipgram2 team)</th>\n",
       "    </tr>\n",
       "  </thead>\n",
       "  <tbody>\n",
       "    <tr>\n",
       "      <th>0</th>\n",
       "      <td>[suckers]</td>\n",
       "      <td>[swimmers, burners, muggers, wohlers, bimmers]</td>\n",
       "      <td>[&gt;cubs, kettle, bandwagon, snuck, &gt;go]</td>\n",
       "    </tr>\n",
       "    <tr>\n",
       "      <th>1</th>\n",
       "      <td>[suckers, walks]</td>\n",
       "      <td>[fuhr-bashers, strangers, knuckles, left-winge...</td>\n",
       "      <td>[blowout, cross-checking, suckers, &gt;cubs, bummin]</td>\n",
       "    </tr>\n",
       "    <tr>\n",
       "      <th>2</th>\n",
       "      <td>[suckers, walks, comeback]</td>\n",
       "      <td>[comeback, horseback, &gt;shortstops, watchit, ho...</td>\n",
       "      <td>[bummin, slugger, kettle, &gt;cubs, &gt;&gt;season]</td>\n",
       "    </tr>\n",
       "    <tr>\n",
       "      <th>3</th>\n",
       "      <td>[suckers, walks, comeback, nmmthe]</td>\n",
       "      <td>[tradgedy, gummint, &gt;shortstops, dole, coaches]</td>\n",
       "      <td>[&gt;grew, kettle, bummin, &gt;cubs, sushi]</td>\n",
       "    </tr>\n",
       "    <tr>\n",
       "      <th>4</th>\n",
       "      <td>[suckers, walks, comeback, nmmthe, hammer]</td>\n",
       "      <td>[toughen, shitty, homesick, dickhead, budweiser]</td>\n",
       "      <td>[sushi, chernobyl, blowout, &gt;grew, bummin]</td>\n",
       "    </tr>\n",
       "  </tbody>\n",
       "</table>\n",
       "</div>"
      ],
      "text/plain": [
       "       Explanation for \"play\" (skipgram team)  \\\n",
       "0                                   [suckers]   \n",
       "1                            [suckers, walks]   \n",
       "2                  [suckers, walks, comeback]   \n",
       "3          [suckers, walks, comeback, nmmthe]   \n",
       "4  [suckers, walks, comeback, nmmthe, hammer]   \n",
       "\n",
       "                                   Guess (cbow team)  \\\n",
       "0     [swimmers, burners, muggers, wohlers, bimmers]   \n",
       "1  [fuhr-bashers, strangers, knuckles, left-winge...   \n",
       "2  [comeback, horseback, >shortstops, watchit, ho...   \n",
       "3    [tradgedy, gummint, >shortstops, dole, coaches]   \n",
       "4   [toughen, shitty, homesick, dickhead, budweiser]   \n",
       "\n",
       "                              Guess (skipgram2 team)  \n",
       "0             [>cubs, kettle, bandwagon, snuck, >go]  \n",
       "1  [blowout, cross-checking, suckers, >cubs, bummin]  \n",
       "2         [bummin, slugger, kettle, >cubs, >>season]  \n",
       "3              [>grew, kettle, bummin, >cubs, sushi]  \n",
       "4         [sushi, chernobyl, blowout, >grew, bummin]  "
      ]
     },
     "metadata": {},
     "output_type": "display_data"
    },
    {
     "data": {
      "text/html": [
       "<div>\n",
       "<style scoped>\n",
       "    .dataframe tbody tr th:only-of-type {\n",
       "        vertical-align: middle;\n",
       "    }\n",
       "\n",
       "    .dataframe tbody tr th {\n",
       "        vertical-align: top;\n",
       "    }\n",
       "\n",
       "    .dataframe thead th {\n",
       "        text-align: right;\n",
       "    }\n",
       "</style>\n",
       "<table border=\"1\" class=\"dataframe\">\n",
       "  <thead>\n",
       "    <tr style=\"text-align: right;\">\n",
       "      <th></th>\n",
       "      <th>Explanation for \"stick\" (skipgram2 team)</th>\n",
       "      <th>Guess (cbow team)</th>\n",
       "      <th>Guess (skipgram team)</th>\n",
       "    </tr>\n",
       "  </thead>\n",
       "  <tbody>\n",
       "    <tr>\n",
       "      <th>0</th>\n",
       "      <td>[jiggled]</td>\n",
       "      <td>[leaned, stowed, climbed, drooled, clamped]</td>\n",
       "      <td>[jiggled, welded, thumbs, 50+mph, 35%]</td>\n",
       "    </tr>\n",
       "    <tr>\n",
       "      <th>1</th>\n",
       "      <td>[jiggled, chopped]</td>\n",
       "      <td>[skipped, shopped, calmed, bopped, chopped]</td>\n",
       "      <td>[*still*, &gt;tires, &gt;nine, elevators, cut]</td>\n",
       "    </tr>\n",
       "    <tr>\n",
       "      <th>2</th>\n",
       "      <td>[jiggled, chopped, stomping]</td>\n",
       "      <td>[sparkling, splashing, wafffling, digging, pun...</td>\n",
       "      <td>[&gt;tires, f*cked, bottled, sport-bike, *up*]</td>\n",
       "    </tr>\n",
       "    <tr>\n",
       "      <th>3</th>\n",
       "      <td>[jiggled, chopped, stomping, luckily]</td>\n",
       "      <td>[scratchy, downhill, sparkling, downing, &gt;back]</td>\n",
       "      <td>[elevators, squat, *still*, \"down, straight]</td>\n",
       "    </tr>\n",
       "    <tr>\n",
       "      <th>4</th>\n",
       "      <td>[jiggled, chopped, stomping, luckily, cloves]</td>\n",
       "      <td>[stoufflet, puppet, shx, scratchy, walk]</td>\n",
       "      <td>[*still*, elevators, straight, squat, &gt;playing]</td>\n",
       "    </tr>\n",
       "    <tr>\n",
       "      <th>5</th>\n",
       "      <td>[jiggled, chopped, stomping, luckily, cloves, ...</td>\n",
       "      <td>[galloping, shear, tooke, skipped, shx]</td>\n",
       "      <td>[elevators, *still*, stick, &gt;revolver, squat]</td>\n",
       "    </tr>\n",
       "    <tr>\n",
       "      <th>6</th>\n",
       "      <td>[jiggled, chopped, stomping, luckily, cloves, ...</td>\n",
       "      <td>[shx, waaaay, scratchy, stoufflet, bummer]</td>\n",
       "      <td>NaN</td>\n",
       "    </tr>\n",
       "    <tr>\n",
       "      <th>7</th>\n",
       "      <td>[jiggled, chopped, stomping, luckily, cloves, ...</td>\n",
       "      <td>[scratchy, touchdown, downhill, &gt;back, flurry]</td>\n",
       "      <td>NaN</td>\n",
       "    </tr>\n",
       "    <tr>\n",
       "      <th>8</th>\n",
       "      <td>[jiggled, chopped, stomping, luckily, cloves, ...</td>\n",
       "      <td>[scratchy, stoufflet, scratch, shx, &gt;flash]</td>\n",
       "      <td>NaN</td>\n",
       "    </tr>\n",
       "    <tr>\n",
       "      <th>9</th>\n",
       "      <td>[jiggled, chopped, stomping, luckily, cloves, ...</td>\n",
       "      <td>[stoufflet, scratchy, shx, waaaay, touchdown]</td>\n",
       "      <td>NaN</td>\n",
       "    </tr>\n",
       "  </tbody>\n",
       "</table>\n",
       "</div>"
      ],
      "text/plain": [
       "            Explanation for \"stick\" (skipgram2 team)  \\\n",
       "0                                          [jiggled]   \n",
       "1                                 [jiggled, chopped]   \n",
       "2                       [jiggled, chopped, stomping]   \n",
       "3              [jiggled, chopped, stomping, luckily]   \n",
       "4      [jiggled, chopped, stomping, luckily, cloves]   \n",
       "5  [jiggled, chopped, stomping, luckily, cloves, ...   \n",
       "6  [jiggled, chopped, stomping, luckily, cloves, ...   \n",
       "7  [jiggled, chopped, stomping, luckily, cloves, ...   \n",
       "8  [jiggled, chopped, stomping, luckily, cloves, ...   \n",
       "9  [jiggled, chopped, stomping, luckily, cloves, ...   \n",
       "\n",
       "                                   Guess (cbow team)  \\\n",
       "0        [leaned, stowed, climbed, drooled, clamped]   \n",
       "1        [skipped, shopped, calmed, bopped, chopped]   \n",
       "2  [sparkling, splashing, wafffling, digging, pun...   \n",
       "3    [scratchy, downhill, sparkling, downing, >back]   \n",
       "4           [stoufflet, puppet, shx, scratchy, walk]   \n",
       "5            [galloping, shear, tooke, skipped, shx]   \n",
       "6         [shx, waaaay, scratchy, stoufflet, bummer]   \n",
       "7     [scratchy, touchdown, downhill, >back, flurry]   \n",
       "8        [scratchy, stoufflet, scratch, shx, >flash]   \n",
       "9      [stoufflet, scratchy, shx, waaaay, touchdown]   \n",
       "\n",
       "                             Guess (skipgram team)  \n",
       "0           [jiggled, welded, thumbs, 50+mph, 35%]  \n",
       "1         [*still*, >tires, >nine, elevators, cut]  \n",
       "2      [>tires, f*cked, bottled, sport-bike, *up*]  \n",
       "3     [elevators, squat, *still*, \"down, straight]  \n",
       "4  [*still*, elevators, straight, squat, >playing]  \n",
       "5    [elevators, *still*, stick, >revolver, squat]  \n",
       "6                                              NaN  \n",
       "7                                              NaN  \n",
       "8                                              NaN  \n",
       "9                                              NaN  "
      ]
     },
     "metadata": {},
     "output_type": "display_data"
    },
    {
     "data": {
      "text/html": [
       "<div>\n",
       "<style scoped>\n",
       "    .dataframe tbody tr th:only-of-type {\n",
       "        vertical-align: middle;\n",
       "    }\n",
       "\n",
       "    .dataframe tbody tr th {\n",
       "        vertical-align: top;\n",
       "    }\n",
       "\n",
       "    .dataframe thead th {\n",
       "        text-align: right;\n",
       "    }\n",
       "</style>\n",
       "<table border=\"1\" class=\"dataframe\">\n",
       "  <thead>\n",
       "    <tr style=\"text-align: right;\">\n",
       "      <th></th>\n",
       "      <th>Explanation for \"cocoa\" (cbow team)</th>\n",
       "      <th>Guess (skipgram team)</th>\n",
       "      <th>Guess (skipgram2 team)</th>\n",
       "    </tr>\n",
       "  </thead>\n",
       "  <tbody>\n",
       "    <tr>\n",
       "      <th>0</th>\n",
       "      <td>[coy]</td>\n",
       "      <td>[coy, brader, gaijin@ale, shaig@composer, heaton]</td>\n",
       "      <td>[rlm@helen, surfcty, laquey, paeth, mech]</td>\n",
       "    </tr>\n",
       "    <tr>\n",
       "      <th>1</th>\n",
       "      <td>[coy, shield]</td>\n",
       "      <td>[reprint, \"partition, denon, zildjian, peri[jo...</td>\n",
       "      <td>[sandwich, cutlass, piloting, lubbock, vascar]</td>\n",
       "    </tr>\n",
       "    <tr>\n",
       "      <th>2</th>\n",
       "      <td>[coy, shield, poer]</td>\n",
       "      <td>[pinnacle, &gt;votes, in-between, fbi;, amphiboly]</td>\n",
       "      <td>[|than, pallas, sandwich, tinseltown, no-brainer]</td>\n",
       "    </tr>\n",
       "    <tr>\n",
       "      <th>3</th>\n",
       "      <td>[coy, shield, poer, steet]</td>\n",
       "      <td>[hydroxyl, vascar, \"14-2\", blizzard, &gt;rules]</td>\n",
       "      <td>[|than, piloting, sandwich, siphoned, pallas]</td>\n",
       "    </tr>\n",
       "    <tr>\n",
       "      <th>4</th>\n",
       "      <td>[coy, shield, poer, steet, panic]</td>\n",
       "      <td>[omelette, stamped, corrallary, &gt;delivered, &gt;&gt;...</td>\n",
       "      <td>[|than, |&gt;on, jking, panacea, artisitc]</td>\n",
       "    </tr>\n",
       "    <tr>\n",
       "      <th>5</th>\n",
       "      <td>[coy, shield, poer, steet, panic, swiss]</td>\n",
       "      <td>[crafty, pocono, tofranil, *unconfirmed*, puppy]</td>\n",
       "      <td>[|than, smallish, eves, dusk, ^~]</td>\n",
       "    </tr>\n",
       "    <tr>\n",
       "      <th>6</th>\n",
       "      <td>[coy, shield, poer, steet, panic, swiss, brims...</td>\n",
       "      <td>[tofranil, *unconfirmed*, crafty, inquired, helm]</td>\n",
       "      <td>[|than, smallish, dusk, pallas, caelum]</td>\n",
       "    </tr>\n",
       "    <tr>\n",
       "      <th>7</th>\n",
       "      <td>[coy, shield, poer, steet, panic, swiss, brims...</td>\n",
       "      <td>[headbangers, opps, rippling;, &gt;week, eyesore]</td>\n",
       "      <td>[|than, pallas, water-head, tinseltown, seront]</td>\n",
       "    </tr>\n",
       "    <tr>\n",
       "      <th>8</th>\n",
       "      <td>[coy, shield, poer, steet, panic, swiss, brims...</td>\n",
       "      <td>[&gt;week, rippling;, month;, eyesore, tofranil]</td>\n",
       "      <td>[|than, tinseltown, pallas, &gt;cam, sapphire]</td>\n",
       "    </tr>\n",
       "    <tr>\n",
       "      <th>9</th>\n",
       "      <td>[coy, shield, poer, steet, panic, swiss, brims...</td>\n",
       "      <td>[squirrel, particular--have, anchor, torso, &gt;`]</td>\n",
       "      <td>[|than, pallas, tinseltown, seront, caelum]</td>\n",
       "    </tr>\n",
       "  </tbody>\n",
       "</table>\n",
       "</div>"
      ],
      "text/plain": [
       "                 Explanation for \"cocoa\" (cbow team)  \\\n",
       "0                                              [coy]   \n",
       "1                                      [coy, shield]   \n",
       "2                                [coy, shield, poer]   \n",
       "3                         [coy, shield, poer, steet]   \n",
       "4                  [coy, shield, poer, steet, panic]   \n",
       "5           [coy, shield, poer, steet, panic, swiss]   \n",
       "6  [coy, shield, poer, steet, panic, swiss, brims...   \n",
       "7  [coy, shield, poer, steet, panic, swiss, brims...   \n",
       "8  [coy, shield, poer, steet, panic, swiss, brims...   \n",
       "9  [coy, shield, poer, steet, panic, swiss, brims...   \n",
       "\n",
       "                               Guess (skipgram team)  \\\n",
       "0  [coy, brader, gaijin@ale, shaig@composer, heaton]   \n",
       "1  [reprint, \"partition, denon, zildjian, peri[jo...   \n",
       "2    [pinnacle, >votes, in-between, fbi;, amphiboly]   \n",
       "3       [hydroxyl, vascar, \"14-2\", blizzard, >rules]   \n",
       "4  [omelette, stamped, corrallary, >delivered, >>...   \n",
       "5   [crafty, pocono, tofranil, *unconfirmed*, puppy]   \n",
       "6  [tofranil, *unconfirmed*, crafty, inquired, helm]   \n",
       "7     [headbangers, opps, rippling;, >week, eyesore]   \n",
       "8      [>week, rippling;, month;, eyesore, tofranil]   \n",
       "9    [squirrel, particular--have, anchor, torso, >`]   \n",
       "\n",
       "                              Guess (skipgram2 team)  \n",
       "0          [rlm@helen, surfcty, laquey, paeth, mech]  \n",
       "1     [sandwich, cutlass, piloting, lubbock, vascar]  \n",
       "2  [|than, pallas, sandwich, tinseltown, no-brainer]  \n",
       "3      [|than, piloting, sandwich, siphoned, pallas]  \n",
       "4            [|than, |>on, jking, panacea, artisitc]  \n",
       "5                  [|than, smallish, eves, dusk, ^~]  \n",
       "6            [|than, smallish, dusk, pallas, caelum]  \n",
       "7    [|than, pallas, water-head, tinseltown, seront]  \n",
       "8        [|than, tinseltown, pallas, >cam, sapphire]  \n",
       "9        [|than, pallas, tinseltown, seront, caelum]  "
      ]
     },
     "metadata": {},
     "output_type": "display_data"
    }
   ],
   "source": [
    "class Game:\n",
    "    def __init__(self, players, words, criteria, n_rounds, n_explain_words, n_guessing_words):\n",
    "        assert len(players) >= 2\n",
    "        assert criteria in ('hard', 'soft')\n",
    "        self.players = players\n",
    "        self.words = words\n",
    "        self.criteria = criteria\n",
    "        self.n_rounds = n_rounds\n",
    "        self.n_explain_words = n_explain_words\n",
    "        self.n_guessing_words = n_guessing_words\n",
    "        \n",
    "    def remove_repeated_words(self, words):\n",
    "        unique_words = []\n",
    "        for c in words:\n",
    "            if not c in unique_words:\n",
    "                unique_words.append(c)\n",
    "        return unique_words\n",
    "        \n",
    "    def create_word_list(self, player, word, n_words):\n",
    "        if self.criteria == 'hard':\n",
    "            explain_words = explain_words[:n_words]\n",
    "        explain_words = player.explain(word, n_words)\n",
    "        explain_words = [re.sub(r'[^\\w]', '', c) for c in explain_words]\n",
    "        explain_words = [c for c in explain_words if word not in c]\n",
    "        explain_words = self.remove_repeated_words(explain_words)\n",
    "        if self.criteria == 'soft':\n",
    "            explain_words = explain_words[:n_words]\n",
    "        return explain_words\n",
    "\n",
    "    def play(self, explaining_player, guessing_players, word, criteria, verbose=False):\n",
    "\n",
    "        if verbose:\n",
    "            print(f'HOST to EXPLAINING PLAYER: the word is \"{word}\"')\n",
    "\n",
    "        guessing_by = self.create_word_list(explaining_player.api, word, N_EXPLAIN_WORDS)\n",
    "        if verbose:\n",
    "            print(f'PLAYER 1 to HOST: my wordlist is {guessing_by}')\n",
    "\n",
    "        df = []\n",
    "        for i in range(1, len(guessing_by) + 1):\n",
    "            if len(guessing_players) == 0:\n",
    "                break\n",
    "            game_round = {}\n",
    "            if verbose:\n",
    "                print(f'\\n===ROUND {i}===\\n')\n",
    "            sentence = guessing_by[:i]\n",
    "            if verbose:\n",
    "                print(f\"HOST: {sentence}\")\n",
    "            game_round.update({f'Explanation for \"{word}\" ({explaining_player.name})': sentence})\n",
    "            for player in guessing_players:\n",
    "                guessed_words = player.api.guess(sentence, N_GUESSING_WORDS)\n",
    "                if criteria == 'soft':\n",
    "                    guessed = any([word in c for c in guessed_words])\n",
    "                else:\n",
    "                    guessed = word in guessed_words\n",
    "                if guessed:\n",
    "                    guessing_players = [p for p in guessing_players if p != player]\n",
    "                if verbose:\n",
    "                    print(f'GUESSING PLAYER ({player.name}) to HOST: {guessed_words}')\n",
    "                    print(f'HOST: {guessed}')\n",
    "                game_round.update({f'Guess ({player.name})': guessed_words})\n",
    "            df.append(game_round)\n",
    "        return pd.DataFrame(df)\n",
    "\n",
    "    def run(self):\n",
    "        np.random.shuffle(self.words)\n",
    "        igame = 0\n",
    "        for r in range(self.n_rounds):\n",
    "            for explaining_player in self.players:\n",
    "                guessing_players = [p for p in self.players if p != explaining_player]\n",
    "                word = self.words[igame]\n",
    "                igame += 1\n",
    "                df = self.play(explaining_player, guessing_players, word, criteria=self.criteria, verbose=False)\n",
    "                display(df)\n",
    "            \n",
    "        \n",
    "player = namedtuple('Player', ['name', 'api'])\n",
    "\n",
    "N_EXPLAIN_WORDS = 10\n",
    "N_GUESSING_WORDS = 5\n",
    "N_ROUNDS = 1\n",
    "CRITERIA = 'soft'\n",
    "\n",
    "PLAYERS = [\n",
    "    player('skipgram team', RemotePlayer('https://obscure-everglades-02893.herokuapp.com')),\n",
    "    player('skipgram2 team', LocalFasttextPlayer(model_skipgram2)),\n",
    "    player('cbow team', LocalFasttextPlayer(model_cbow))\n",
    "]\n",
    "\n",
    "WORDS = [\n",
    "    'play', 'master', 'word', 'cocoa', 'coffee',\n",
    "    'september', 'jungle', 'spell', 'python',\n",
    "    'cat', 'joy', 'sadness', 'small', 'stick'\n",
    "]\n",
    "# WORDS = ['september'] * 10\n",
    "\n",
    "game = Game(PLAYERS, WORDS, CRITERIA, N_ROUNDS, N_EXPLAIN_WORDS, N_GUESSING_WORDS)\n",
    "game.run()"
   ]
  },
  {
   "cell_type": "code",
   "execution_count": null,
   "metadata": {},
   "outputs": [],
   "source": []
  },
  {
   "cell_type": "code",
   "execution_count": null,
   "metadata": {},
   "outputs": [],
   "source": []
  },
  {
   "cell_type": "code",
   "execution_count": null,
   "metadata": {},
   "outputs": [],
   "source": []
  },
  {
   "cell_type": "code",
   "execution_count": null,
   "metadata": {},
   "outputs": [],
   "source": []
  },
  {
   "cell_type": "code",
   "execution_count": null,
   "metadata": {},
   "outputs": [],
   "source": []
  }
 ],
 "metadata": {
  "kernelspec": {
   "display_name": "py36",
   "language": "python",
   "name": "py36"
  },
  "language_info": {
   "codemirror_mode": {
    "name": "ipython",
    "version": 3
   },
   "file_extension": ".py",
   "mimetype": "text/x-python",
   "name": "python",
   "nbconvert_exporter": "python",
   "pygments_lexer": "ipython3",
   "version": "3.6.0"
  },
  "toc": {
   "base_numbering": 1,
   "nav_menu": {},
   "number_sections": true,
   "sideBar": true,
   "skip_h1_title": false,
   "title_cell": "Table of Contents",
   "title_sidebar": "Contents",
   "toc_cell": false,
   "toc_position": {},
   "toc_section_display": true,
   "toc_window_display": false
  }
 },
 "nbformat": 4,
 "nbformat_minor": 2
}
