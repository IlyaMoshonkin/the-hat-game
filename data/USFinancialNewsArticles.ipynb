{
 "cells": [
  {
   "cell_type": "markdown",
   "metadata": {},
   "source": [
    "# Download, take a look at the data and make a .txt file for embeddings training"
   ]
  },
  {
   "cell_type": "code",
   "execution_count": 1,
   "metadata": {},
   "outputs": [],
   "source": [
    "import json\n",
    "from pprint import pprint\n",
    "\n",
    "from glob import glob\n",
    "from tqdm import tqdm_notebook\n",
    "import pandas as pd"
   ]
  },
  {
   "cell_type": "code",
   "execution_count": 3,
   "metadata": {},
   "outputs": [
    {
     "name": "stdout",
     "output_type": "stream",
     "text": [
      "  % Total    % Received % Xferd  Average Speed   Time    Time     Time  Current\n",
      "                                 Dload  Upload   Total   Spent    Left  Speed\n",
      "100  102M  100  102M    0     0  13.9M      0  0:00:07  0:00:07 --:--:-- 15.9M:35  0:00:01 36:21:34   825\n"
     ]
    }
   ],
   "source": [
    "!curl https://transfer.sh/48P8k/us-financial-news-articles.zip -o us-financial-news-articles.zip"
   ]
  },
  {
   "cell_type": "code",
   "execution_count": 4,
   "metadata": {},
   "outputs": [],
   "source": [
    "!unzip -qod us-financial-news-articles us-financial-news-articles.zip"
   ]
  },
  {
   "cell_type": "code",
   "execution_count": 5,
   "metadata": {},
   "outputs": [
    {
     "data": {
      "text/plain": [
       "57802"
      ]
     },
     "execution_count": 5,
     "metadata": {},
     "output_type": "execute_result"
    }
   ],
   "source": [
    "files = glob('us-financial-news-articles/*')\n",
    "len(files)"
   ]
  },
  {
   "cell_type": "markdown",
   "metadata": {},
   "source": [
    "## full json content"
   ]
  },
  {
   "cell_type": "code",
   "execution_count": 6,
   "metadata": {
    "scrolled": false
   },
   "outputs": [
    {
     "name": "stdout",
     "output_type": "stream",
     "text": [
      "{'author': '',\n",
      " 'crawled': '2018-01-26T01:31:46.014+02:00',\n",
      " 'entities': {'locations': [{'name': 'argentina', 'sentiment': 'none'},\n",
      "                            {'name': 'u.s.', 'sentiment': 'none'},\n",
      "                            {'name': 'new york', 'sentiment': 'none'},\n",
      "                            {'name': 'mexico', 'sentiment': 'none'}],\n",
      "              'organizations': [{'name': 'reuters', 'sentiment': 'none'},\n",
      "                                {'name': 'u.s. treasury', 'sentiment': 'none'}],\n",
      "              'persons': [{'name': 'argen', 'sentiment': 'negative'},\n",
      "                          {'name': 'donald trump', 'sentiment': 'none'},\n",
      "                          {'name': 'rodrigo campos', 'sentiment': 'none'},\n",
      "                          {'name': 'steven mnuchin', 'sentiment': 'none'},\n",
      "                          {'name': 'mnuchin', 'sentiment': 'none'},\n",
      "                          {'name': 'trump', 'sentiment': 'none'}]},\n",
      " 'external_links': [],\n",
      " 'highlightText': '',\n",
      " 'highlightTitle': '',\n",
      " 'language': 'english',\n",
      " 'locations': [],\n",
      " 'ord_in_thread': 0,\n",
      " 'organizations': [],\n",
      " 'persons': [],\n",
      " 'published': '2018-01-26T01:01:00.000+02:00',\n",
      " 'text': '(Updates prices, adds Trump comments) By Rodrigo Campos NEW YORK, '\n",
      "         \"Jan 25 (Reuters) - Mexico's peso seesawed against the dollar on \"\n",
      "         'Thursday as U.S. officials sent mixed signals on the greenback, '\n",
      "         \"while Argentina's Merval stock index broke the 35,000-point mark for \"\n",
      "         'the first time. Several emerging currencies hit multi-year highs '\n",
      "         'against the greenback, with the dollar index languishing at more '\n",
      "         'than three-year lows after U.S. Treasury Secretary Steven Mnuchin '\n",
      "         'departed from traditional U.S. currency policy, saying \"obviously a '\n",
      "         'weaker dollar is good for us.\" The Mexican peso appreciated by more '\n",
      "         'than 1 percent to 18.3025 earlier in the day before U.S. President '\n",
      "         'Donald Trump said Mnuchin had been misinterpreted and that he '\n",
      "         \"ultimately wanted the dollar to be strong. Trump's comments helped \"\n",
      "         'the dollar to pare losses against major currencies, and the Mexican '\n",
      "         'peso reversed its gains, closing down almost 0.6 percent against the '\n",
      "         \"greenback. Elsewhere, Colombia's peso added to Wednesday's 1.48 \"\n",
      "         'percent gain against the dollar to reach its strongest level since '\n",
      "         'July 2015, while the Chilean peso closed under 600 per dollar for '\n",
      "         'the first time since May 2015. Brazilian markets were closed for the '\n",
      "         'Sao Paulo anniversary holiday but are expected to soon extend a '\n",
      "         'rally that boosted the benchmark Bovespa stock index to an all-time '\n",
      "         'high above 83,000 points on Wednesday. That advance came after an '\n",
      "         'appeals court upheld a corruption conviction of former President '\n",
      "         'Luiz Inacio Lula da Silva. Although the conviction could derail his '\n",
      "         'plans to run again for the presidency, Lula, who is leading opinion '\n",
      "         'polls for the October election, said on Thursday he would appeal the '\n",
      "         'decision. Brazilian and Argentine shares have led a Latin American '\n",
      "         \"equities rally to start the year that has MSCI's gauge of the \"\n",
      "         \"region's stocks set for its largest January gains since 2006. The \"\n",
      "         'Merval closed up 0.55 percent at 35,141.72 points. Key Latin '\n",
      "         'American stock indexes and currencies at 2145 GMT: Stock indexes '\n",
      "         'Latest Daily YTD pct pct change change MSCI Emerging Markets '\n",
      "         '1,263.45 0.37 9.06 MSCI LatAm 3,201.95 1.01 13.22 Mexico IPC '\n",
      "         '50,777.90 0.27 3.09 Chile IPSA 5,811.54 0.23 4.44 Chile IGPA '\n",
      "         '29,216.54 0.23 4.42 Argentina Merval 35,141.72 0.55 16.88 Colombia '\n",
      "         'IGBC 12,307.20 -0.06 8.24 Currencies Latest Daily YTD pct pct change '\n",
      "         'change Brazil real 3.1470 0.35 5.28 Mexico peso 18.6100 -0.57 5.85 '\n",
      "         'Chile peso 598.60 0.7 2.68 Colombia peso 2,790 0.84 6.88 Peru sol '\n",
      "         '3.210 0.09 0.84 Argentina peso (interbank) 19.56 0.38 -4.91 '\n",
      "         'Argentina peso (parallel) 19.91 0.35 -3.42 (Reporting by Rodrigo '\n",
      "         'Campos; Editing by Bernadette Baum and Chris Reese)\\n'\n",
      "         ' ',\n",
      " 'thread': {'country': 'US',\n",
      "            'domain_rank': 408,\n",
      "            'main_image': 'https://s4.reutersmedia.net/resources_v2/images/rcom-default.png',\n",
      "            'participants_count': 0,\n",
      "            'performance_score': 0,\n",
      "            'published': '2018-01-26T01:01:00.000+02:00',\n",
      "            'replies_count': 0,\n",
      "            'section_title': 'Reuters: Company News',\n",
      "            'site': 'reuters.com',\n",
      "            'site_full': 'www.reuters.com',\n",
      "            'site_section': 'http://feeds.reuters.com/reuters/companyNews',\n",
      "            'site_type': 'news',\n",
      "            'social': {'facebook': {'comments': 0, 'likes': 0, 'shares': 0},\n",
      "                       'gplus': {'shares': 0},\n",
      "                       'linkedin': {'shares': 0},\n",
      "                       'pinterest': {'shares': 0},\n",
      "                       'stumbledupon': {'shares': 0},\n",
      "                       'vk': {'shares': 0}},\n",
      "            'spam_score': 0.0,\n",
      "            'title': 'EMERGING MARKETS-Mexican peso seesaws over dollar; '\n",
      "                     'Argentina stocks hit record',\n",
      "            'title_full': '',\n",
      "            'url': 'https://www.reuters.com/article/emerging-markets-latam/emerging-markets-mexican-peso-seesaws-over-dollar-argentina-stocks-hit-record-idUSL2N1PK1XS',\n",
      "            'uuid': '4f2fec4a4d32d0f564e5da74188b51e5317e4826'},\n",
      " 'title': 'EMERGING MARKETS-Mexican peso seesaws over dollar; Argentina stocks '\n",
      "          'hit record',\n",
      " 'url': 'https://www.reuters.com/article/emerging-markets-latam/emerging-markets-mexican-peso-seesaws-over-dollar-argentina-stocks-hit-record-idUSL2N1PK1XS',\n",
      " 'uuid': '4f2fec4a4d32d0f564e5da74188b51e5317e4826'}\n"
     ]
    }
   ],
   "source": [
    "for path in files[:1]:\n",
    "    with open(path) as stream:\n",
    "        pprint(json.load(stream))"
   ]
  },
  {
   "cell_type": "markdown",
   "metadata": {},
   "source": [
    "## raw texts"
   ]
  },
  {
   "cell_type": "code",
   "execution_count": 7,
   "metadata": {
    "scrolled": false
   },
   "outputs": [
    {
     "name": "stdout",
     "output_type": "stream",
     "text": [
      "BERLIN (Reuters) - New migrants to Germany must visit Nazi concentration camp memorials to help tackle a perceived rise in anti-Semitism, Germany’s Central Council of Jews said on Wednesday, supporting a proposal by a Palestinian-German politician.\n",
      "Anti-Semitism remains a sensitive issue in Germany, one of Israel’s closest allies, more than 70 years after the end of the Nazi-era Holocaust, in which 6 million Jews were killed.\n",
      "The government decried as shameful the spectacle of the Israeli flag being burned at demonstrations last month against U.S. President Donald Trump’s decision to recognize Jerusalem as Israel’s capital.\n",
      "Josef Schuster, head of the Central Council of Jews expressed support for a proposal by Sawsan Chebli, a Berlin state senator, for mandatory visits by newly arrived refugees to Nazi concentration camps memorials.\n",
      "“People who have fled to us who have themselves had to escape or been expelled, can develop empathy in such memorials,” Schuster told Deutschlandfunk radio on Wednesday.\n",
      "Germany has received well over a million migrants fleeing war and poverty in the Middle East and Africa.\n",
      "Germany is home today to an estimated 200,000 Jews and has built a reputation in recent decades as a tolerant, safe place for Jews to live - though data shows anti-Semitic crimes reported to the police rose 4 percent to 681 in the first eight months of 2017 from the same period in 2016.\n",
      "“It makes sense for everyone living in this country to be obliged to visit a concentration camp memorial site at least once in their lives,” Chebli told Bild am Sonntag newspaper on Sunday when she first floated the proposal.\n",
      "She said such visits, long a staple of high school education in a country determined that the lessons of its history not be forgotten, should also be extended to new migrants, who should make trips as part of their compulsory integration courses.\n",
      "Currently, the integration courses focus on learning the German language and about Germany’s history, culture and its legal system\n",
      "Asked about the possibility of mandatory visits to concentration camps, a spokeswoman for the Federal Office for Migration and Refugees ministry said the integration course for immigrants already had a module regarding the consequences of the Nazi rule for the people of Germany and Europe.\n",
      "Last month, Germany’s justice minister called for more emphasis on the Holocaust in migrants’ integration courses.\n",
      "Schuster said everyone who wanted to live permanently in Germany must identify with its history.\n",
      "Such visits, which should be prepared by schools, would show where anti-Semitism and hatred for Jews could lead, he said.\n",
      "Reporting by Riham Alkousaa; Editing by Alison Williams\n",
      " \n",
      "\n",
      "Euro zone businesses start 2018 on decade high 12:14pm EST - 01:31 \n",
      "Euro zone businesses have been ramping up activity at the fastest rate since the middle of 2006, according to a survey. As David Pollard reports, Germany's private sector also continued to grow robustly in January, propelled by both factories and services activity.   \n",
      "Euro zone businesses have been ramping up activity at the fastest rate since the middle of 2006, according to a survey. As David Pollard reports, Germany's private sector also continued to grow robustly in January, propelled by both factories and services activity.  //reut.rs/2n919XF\n",
      "\n"
     ]
    }
   ],
   "source": [
    "for path in files[1:3]:\n",
    "    with open(path) as stream:\n",
    "        print(json.load(stream)['text'])\n",
    "        print()"
   ]
  },
  {
   "cell_type": "markdown",
   "metadata": {},
   "source": [
    "## dump all texts to disk"
   ]
  },
  {
   "cell_type": "code",
   "execution_count": 8,
   "metadata": {
    "scrolled": false
   },
   "outputs": [
    {
     "name": "stdout",
     "output_type": "stream",
     "text": [
      "us-financial-news-articles 57802\n"
     ]
    },
    {
     "data": {
      "application/vnd.jupyter.widget-view+json": {
       "model_id": "e15f940a66e74da5ac9d51adce682a8b",
       "version_major": 2,
       "version_minor": 0
      },
      "text/plain": [
       "HBox(children=(IntProgress(value=0, max=57802), HTML(value='')))"
      ]
     },
     "metadata": {},
     "output_type": "display_data"
    },
    {
     "name": "stderr",
     "output_type": "stream",
     "text": [
      "/Users/aguschin/anaconda3/envs/mechanica_36/lib/python3.6/site-packages/tqdm/_monitor.py:89: TqdmSynchronisationWarning: Set changed size during iteration (see https://github.com/tqdm/tqdm/issues/481)\n",
      "  TqdmSynchronisationWarning)\n"
     ]
    },
    {
     "name": "stdout",
     "output_type": "stream",
     "text": [
      "\n"
     ]
    }
   ],
   "source": [
    "folder = 'us-financial-news-articles'\n",
    "\n",
    "with open('us-financial-news-articles.txt', 'w') as write_stream:\n",
    "    files = glob(f'{folder}/*')\n",
    "    print(folder, len(files))\n",
    "\n",
    "    for path in tqdm_notebook(files[:]):\n",
    "        with open(path) as stream:\n",
    "            text = json.load(stream)['text']\n",
    "            print(text, file=write_stream)"
   ]
  },
  {
   "cell_type": "code",
   "execution_count": 9,
   "metadata": {},
   "outputs": [
    {
     "name": "stdout",
     "output_type": "stream",
     "text": [
      " 20329509 us-financial-news-articles.txt\r\n"
     ]
    }
   ],
   "source": [
    "!wc -w us-financial-news-articles.txt"
   ]
  },
  {
   "cell_type": "code",
   "execution_count": 10,
   "metadata": {},
   "outputs": [
    {
     "name": "stdout",
     "output_type": "stream",
     "text": [
      "\r\n",
      "WC(1)                     BSD General Commands Manual                    WC(1)\r\n",
      "\r\n",
      "N\bNA\bAM\bME\bE\r\n",
      "     w\bwc\bc -- word, line, character, and byte count\r\n",
      "\r\n",
      "S\bSY\bYN\bNO\bOP\bPS\bSI\bIS\bS\r\n",
      "     w\bwc\bc [-\b-c\bcl\blm\bmw\bw] [_\bf_\bi_\bl_\be _\b._\b._\b.]\r\n",
      "\r\n",
      "D\bDE\bES\bSC\bCR\bRI\bIP\bPT\bTI\bIO\bON\bN\r\n",
      "     The w\bwc\bc utility displays the number of lines, words, and bytes contained\r\n",
      "     in each input _\bf_\bi_\bl_\be, or standard input (if no file is specified) to the\r\n",
      "     standard output.  A line is defined as a string of characters delimited\r\n",
      "     by a <newline> character.  Characters beyond the final <newline> charac-\r\n",
      "     ter will not be included in the line count.\r\n",
      "\r\n",
      "     A word is defined as a string of characters delimited by white space\r\n",
      "     characters.  White space characters are the set of characters for which\r\n",
      "     the iswspace(3) function returns true.  If more than one input file is\r\n",
      "     specified, a line of cumulative counts for all the files is displayed on\r\n",
      "     a separate line after the output for the last file.\r\n",
      "\r\n",
      "     The following options are available:\r\n",
      "\r\n",
      "     -\b-c\bc      The number of bytes in each input file is written to the standard\r\n",
      "             output.  This will cancel out any prior usage of the -\b-m\bm option.\r\n",
      "\r\n",
      "     -\b-l\bl      The number of lines in each input file is written to the standard\r\n",
      "             output.\r\n",
      "\r\n",
      "     -\b-m\bm      The number of characters in each input file is written to the\r\n",
      "             standard output.  If the current locale does not support multi-\r\n",
      "             byte characters, this is equivalent to the -\b-c\bc option.  This will\r\n",
      "             cancel out any prior usage of the -\b-c\bc option.\r\n",
      "\r\n",
      "     -\b-w\bw      The number of words in each input file is written to the standard\r\n",
      "             output.\r\n",
      "\r\n",
      "     When an option is specified, w\bwc\bc only reports the information requested by\r\n",
      "     that option.  The order of output always takes the form of line, word,\r\n",
      "     byte, and file name.  The default action is equivalent to specifying the\r\n",
      "     -\b-c\bc, -\b-l\bl and -\b-w\bw options.\r\n",
      "\r\n",
      "     If no files are specified, the standard input is used and no file name is\r\n",
      "     displayed.  The prompt will accept input until receiving EOF, or [^D] in\r\n",
      "     most environments.\r\n",
      "\r\n",
      "E\bEN\bNV\bVI\bIR\bRO\bON\bNM\bME\bEN\bNT\bT\r\n",
      "     The LANG, LC_ALL and LC_CTYPE environment variables affect the execution\r\n",
      "     of w\bwc\bc as described in environ(7).\r\n",
      "\r\n",
      "E\bEX\bXI\bIT\bT S\bST\bTA\bAT\bTU\bUS\bS\r\n",
      "     The w\bwc\bc utility exits 0 on success, and >0 if an error occurs.\r\n",
      "\r\n",
      "E\bEX\bXA\bAM\bMP\bPL\bLE\bES\bS\r\n",
      "     Count the number of characters, words and lines in each of the files\r\n",
      "     _\br_\be_\bp_\bo_\br_\bt_\b1 and _\br_\be_\bp_\bo_\br_\bt_\b2 as well as the totals for both:\r\n",
      "\r\n",
      "           wc -mlw report1 report2\r\n",
      "\r\n",
      "C\bCO\bOM\bMP\bPA\bAT\bTI\bIB\bBI\bIL\bLI\bIT\bTY\bY\r\n",
      "     Historically, the w\bwc\bc utility was documented to define a word as a ``maxi-\r\n",
      "     mal string of characters delimited by <space>, <tab> or <newline> charac-\r\n",
      "     ters''.  The implementation, however, did not handle non-printing charac-\r\n",
      "     ters correctly so that ``  ^D^E  '' counted as 6 spaces, while\r\n",
      "     ``foo^D^Ebar'' counted as 8 characters.  4BSD systems after 4.3BSD modi-\r\n",
      "     fied the implementation to be consistent with the documentation.  This\r\n",
      "     implementation defines a ``word'' in terms of the iswspace(3) function,\r\n",
      "     as required by IEEE Std 1003.2 (``POSIX.2'').\r\n",
      "\r\n",
      "S\bSE\bEE\bE A\bAL\bLS\bSO\bO\r\n",
      "     iswspace(3)\r\n",
      "\r\n",
      "S\bST\bTA\bAN\bND\bDA\bAR\bRD\bDS\bS\r\n",
      "     The w\bwc\bc utility conforms to IEEE Std 1003.1-2001 (``POSIX.1'').\r\n",
      "\r\n",
      "H\bHI\bIS\bST\bTO\bOR\bRY\bY\r\n",
      "     A w\bwc\bc command appeared in Version 1 AT&T UNIX.\r\n",
      "\r\n",
      "BSD                            February 23, 2005                           BSD\r\n"
     ]
    }
   ],
   "source": [
    "!man wc"
   ]
  },
  {
   "cell_type": "code",
   "execution_count": null,
   "metadata": {},
   "outputs": [],
   "source": []
  }
 ],
 "metadata": {
  "kernelspec": {
   "display_name": "mechanica_36",
   "language": "python",
   "name": "mechanica_36"
  },
  "language_info": {
   "codemirror_mode": {
    "name": "ipython",
    "version": 3
   },
   "file_extension": ".py",
   "mimetype": "text/x-python",
   "name": "python",
   "nbconvert_exporter": "python",
   "pygments_lexer": "ipython3",
   "version": "3.6.0"
  },
  "toc": {
   "base_numbering": 1,
   "nav_menu": {},
   "number_sections": true,
   "sideBar": true,
   "skip_h1_title": true,
   "title_cell": "Table of Contents",
   "title_sidebar": "Contents",
   "toc_cell": false,
   "toc_position": {},
   "toc_section_display": true,
   "toc_window_display": true
  }
 },
 "nbformat": 4,
 "nbformat_minor": 2
}
